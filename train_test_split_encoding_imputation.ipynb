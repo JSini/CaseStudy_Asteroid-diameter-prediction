{
  "nbformat": 4,
  "nbformat_minor": 0,
  "metadata": {
    "colab": {
      "provenance": [],
      "collapsed_sections": [
        "6sWd5DGUF3eR",
        "YW7BipdpU8y3",
        "e-r2l3WwRfAj",
        "HIyoYPineGu2",
        "MJN5WeZRkXyg",
        "yfg1dnj_2gLo",
        "YNNoqKwok-x7"
      ]
    },
    "kernelspec": {
      "name": "python3",
      "display_name": "Python 3"
    },
    "language_info": {
      "name": "python"
    }
  },
  "cells": [
    {
      "cell_type": "code",
      "source": [
        "#Importing all necessary libraries\n",
        "import numpy as np\n",
        "import pandas as pd\n",
        "import matplotlib.pyplot as plt\n",
        "%matplotlib inline\n",
        "import seaborn as sns\n",
        "import missingno as msno\n",
        "from prettytable import PrettyTable\n",
        "from statsmodels.stats.outliers_influence import variance_inflation_factor\n",
        "import pickle\n",
        "import os\n",
        "import joblib\n",
        "from sklearn.impute import KNNImputer\n",
        "from sklearn.preprocessing import MinMaxScaler, StandardScaler, QuantileTransformer, PowerTransformer, MaxAbsScaler\n",
        "from sklearn.metrics import mean_absolute_error, median_absolute_error, mean_squared_error, r2_score\n",
        "from sklearn.linear_model import LinearRegression\n",
        "from sklearn.tree import DecisionTreeRegressor\n",
        "from sklearn.ensemble import RandomForestRegressor, AdaBoostRegressor, GradientBoostingRegressor, VotingRegressor\n",
        "from sklearn.neural_network import MLPRegressor\n",
        "from sklearn.svm import SVR\n",
        "from xgboost import XGBRegressor\n",
        "from sklearn.model_selection import cross_val_score\n",
        "from sklearn.model_selection import GridSearchCV, RandomizedSearchCV"
      ],
      "metadata": {
        "id": "YyOH_fCS0cpz"
      },
      "execution_count": null,
      "outputs": []
    },
    {
      "cell_type": "code",
      "source": [
        "#save dataframe to csv\n",
        "def save_to_csv(dataframe, file_name):\n",
        "      path = '/content/drive/MyDrive/project_asteroid/train_test_split/'\n",
        "      dataframe.to_csv(os.path.join(path, file_name), index=False)\n",
        "  \n",
        "## plotting feature importance\n",
        "def plot_feature_imp(model, train_data, feature_set):\n",
        "    \"\"\" function to plot feature importance\"\"\"\n",
        "    fig, ax = plt.subplots(figsize=(8,4))\n",
        "    ax = sns.barplot(x=np.sort(model.feature_importances_)[::-1], y=train_data.columns)\n",
        "    ax.set(xscale='log')\n",
        "    ax.set_title(f'Feature Importance - {feature_set}')\n",
        "    plt.show() "
      ],
      "metadata": {
        "id": "D-dBQ2oN_9bn"
      },
      "execution_count": null,
      "outputs": []
    },
    {
      "cell_type": "code",
      "source": [
        "test = pd.read_csv('/content/test1.csv', header=None)\n",
        "test.head()"
      ],
      "metadata": {
        "colab": {
          "base_uri": "https://localhost:8080/",
          "height": 244
        },
        "id": "9l65nwtoBgUO",
        "outputId": "c641e56f-b95a-4cf0-99a7-da2f9075dd77"
      },
      "execution_count": null,
      "outputs": [
        {
          "output_type": "execute_result",
          "data": {
            "text/plain": [
              "                0      1  2  3     4     5      6                      7   \\\n",
              "0  Ceres (A801 AA)  Ceres  N  N  3.33  0.12  939.4  964.4 x 964.2 x 891.8   \n",
              "\n",
              "     8        9   ...      27          28      29   30    31    32   33  \\\n",
              "0  0.09  9.07417  ...  0.2142  2459920.37  1680.0  4.6  1.59  2.09  MBA   \n",
              "\n",
              "       34  35       36  \n",
              "0  9520.0   0  0.43153  \n",
              "\n",
              "[1 rows x 37 columns]"
            ],
            "text/html": [
              "\n",
              "  <div id=\"df-96a2a8d1-f367-41ee-93f5-3c02a92b852f\">\n",
              "    <div class=\"colab-df-container\">\n",
              "      <div>\n",
              "<style scoped>\n",
              "    .dataframe tbody tr th:only-of-type {\n",
              "        vertical-align: middle;\n",
              "    }\n",
              "\n",
              "    .dataframe tbody tr th {\n",
              "        vertical-align: top;\n",
              "    }\n",
              "\n",
              "    .dataframe thead th {\n",
              "        text-align: right;\n",
              "    }\n",
              "</style>\n",
              "<table border=\"1\" class=\"dataframe\">\n",
              "  <thead>\n",
              "    <tr style=\"text-align: right;\">\n",
              "      <th></th>\n",
              "      <th>0</th>\n",
              "      <th>1</th>\n",
              "      <th>2</th>\n",
              "      <th>3</th>\n",
              "      <th>4</th>\n",
              "      <th>5</th>\n",
              "      <th>6</th>\n",
              "      <th>7</th>\n",
              "      <th>8</th>\n",
              "      <th>9</th>\n",
              "      <th>...</th>\n",
              "      <th>27</th>\n",
              "      <th>28</th>\n",
              "      <th>29</th>\n",
              "      <th>30</th>\n",
              "      <th>31</th>\n",
              "      <th>32</th>\n",
              "      <th>33</th>\n",
              "      <th>34</th>\n",
              "      <th>35</th>\n",
              "      <th>36</th>\n",
              "    </tr>\n",
              "  </thead>\n",
              "  <tbody>\n",
              "    <tr>\n",
              "      <th>0</th>\n",
              "      <td>Ceres (A801 AA)</td>\n",
              "      <td>Ceres</td>\n",
              "      <td>N</td>\n",
              "      <td>N</td>\n",
              "      <td>3.33</td>\n",
              "      <td>0.12</td>\n",
              "      <td>939.4</td>\n",
              "      <td>964.4 x 964.2 x 891.8</td>\n",
              "      <td>0.09</td>\n",
              "      <td>9.07417</td>\n",
              "      <td>...</td>\n",
              "      <td>0.2142</td>\n",
              "      <td>2459920.37</td>\n",
              "      <td>1680.0</td>\n",
              "      <td>4.6</td>\n",
              "      <td>1.59</td>\n",
              "      <td>2.09</td>\n",
              "      <td>MBA</td>\n",
              "      <td>9520.0</td>\n",
              "      <td>0</td>\n",
              "      <td>0.43153</td>\n",
              "    </tr>\n",
              "  </tbody>\n",
              "</table>\n",
              "<p>1 rows × 37 columns</p>\n",
              "</div>\n",
              "      <button class=\"colab-df-convert\" onclick=\"convertToInteractive('df-96a2a8d1-f367-41ee-93f5-3c02a92b852f')\"\n",
              "              title=\"Convert this dataframe to an interactive table.\"\n",
              "              style=\"display:none;\">\n",
              "        \n",
              "  <svg xmlns=\"http://www.w3.org/2000/svg\" height=\"24px\"viewBox=\"0 0 24 24\"\n",
              "       width=\"24px\">\n",
              "    <path d=\"M0 0h24v24H0V0z\" fill=\"none\"/>\n",
              "    <path d=\"M18.56 5.44l.94 2.06.94-2.06 2.06-.94-2.06-.94-.94-2.06-.94 2.06-2.06.94zm-11 1L8.5 8.5l.94-2.06 2.06-.94-2.06-.94L8.5 2.5l-.94 2.06-2.06.94zm10 10l.94 2.06.94-2.06 2.06-.94-2.06-.94-.94-2.06-.94 2.06-2.06.94z\"/><path d=\"M17.41 7.96l-1.37-1.37c-.4-.4-.92-.59-1.43-.59-.52 0-1.04.2-1.43.59L10.3 9.45l-7.72 7.72c-.78.78-.78 2.05 0 2.83L4 21.41c.39.39.9.59 1.41.59.51 0 1.02-.2 1.41-.59l7.78-7.78 2.81-2.81c.8-.78.8-2.07 0-2.86zM5.41 20L4 18.59l7.72-7.72 1.47 1.35L5.41 20z\"/>\n",
              "  </svg>\n",
              "      </button>\n",
              "      \n",
              "  <style>\n",
              "    .colab-df-container {\n",
              "      display:flex;\n",
              "      flex-wrap:wrap;\n",
              "      gap: 12px;\n",
              "    }\n",
              "\n",
              "    .colab-df-convert {\n",
              "      background-color: #E8F0FE;\n",
              "      border: none;\n",
              "      border-radius: 50%;\n",
              "      cursor: pointer;\n",
              "      display: none;\n",
              "      fill: #1967D2;\n",
              "      height: 32px;\n",
              "      padding: 0 0 0 0;\n",
              "      width: 32px;\n",
              "    }\n",
              "\n",
              "    .colab-df-convert:hover {\n",
              "      background-color: #E2EBFA;\n",
              "      box-shadow: 0px 1px 2px rgba(60, 64, 67, 0.3), 0px 1px 3px 1px rgba(60, 64, 67, 0.15);\n",
              "      fill: #174EA6;\n",
              "    }\n",
              "\n",
              "    [theme=dark] .colab-df-convert {\n",
              "      background-color: #3B4455;\n",
              "      fill: #D2E3FC;\n",
              "    }\n",
              "\n",
              "    [theme=dark] .colab-df-convert:hover {\n",
              "      background-color: #434B5C;\n",
              "      box-shadow: 0px 1px 3px 1px rgba(0, 0, 0, 0.15);\n",
              "      filter: drop-shadow(0px 1px 2px rgba(0, 0, 0, 0.3));\n",
              "      fill: #FFFFFF;\n",
              "    }\n",
              "  </style>\n",
              "\n",
              "      <script>\n",
              "        const buttonEl =\n",
              "          document.querySelector('#df-96a2a8d1-f367-41ee-93f5-3c02a92b852f button.colab-df-convert');\n",
              "        buttonEl.style.display =\n",
              "          google.colab.kernel.accessAllowed ? 'block' : 'none';\n",
              "\n",
              "        async function convertToInteractive(key) {\n",
              "          const element = document.querySelector('#df-96a2a8d1-f367-41ee-93f5-3c02a92b852f');\n",
              "          const dataTable =\n",
              "            await google.colab.kernel.invokeFunction('convertToInteractive',\n",
              "                                                     [key], {});\n",
              "          if (!dataTable) return;\n",
              "\n",
              "          const docLinkHtml = 'Like what you see? Visit the ' +\n",
              "            '<a target=\"_blank\" href=https://colab.research.google.com/notebooks/data_table.ipynb>data table notebook</a>'\n",
              "            + ' to learn more about interactive tables.';\n",
              "          element.innerHTML = '';\n",
              "          dataTable['output_type'] = 'display_data';\n",
              "          await google.colab.output.renderOutput(dataTable, element);\n",
              "          const docLink = document.createElement('div');\n",
              "          docLink.innerHTML = docLinkHtml;\n",
              "          element.appendChild(docLink);\n",
              "        }\n",
              "      </script>\n",
              "    </div>\n",
              "  </div>\n",
              "  "
            ]
          },
          "metadata": {},
          "execution_count": 5
        }
      ]
    },
    {
      "cell_type": "markdown",
      "source": [
        "## Loading data"
      ],
      "metadata": {
        "id": "6zEiS7FIy3Zj"
      }
    },
    {
      "cell_type": "code",
      "execution_count": null,
      "metadata": {
        "id": "Q-cgrJHJGuiG",
        "colab": {
          "base_uri": "https://localhost:8080/"
        },
        "outputId": "6448856f-94ba-41fb-8d18-07ef3afcdfb1"
      },
      "outputs": [
        {
          "output_type": "stream",
          "name": "stderr",
          "text": [
            "/usr/local/lib/python3.7/dist-packages/IPython/core/interactiveshell.py:3326: DtypeWarning: Columns (1,7,14,15) have mixed types.Specify dtype option on import or set low_memory=False.\n",
            "  exec(code_obj, self.user_global_ns, self.user_ns)\n"
          ]
        }
      ],
      "source": [
        "df = pd.read_csv('/content/drive/MyDrive/project_asteroid/asteroids_final.csv')"
      ]
    },
    {
      "cell_type": "code",
      "source": [
        "df.columns"
      ],
      "metadata": {
        "colab": {
          "base_uri": "https://localhost:8080/"
        },
        "id": "8ozgci4uBhiP",
        "outputId": "9e0c64ca-902e-4141-a752-b244b1d48c55"
      },
      "execution_count": null,
      "outputs": [
        {
          "output_type": "execute_result",
          "data": {
            "text/plain": [
              "Index(['full_name', 'name', 'neo', 'pha', 'H', 'G', 'diameter', 'extent',\n",
              "       'albedo', 'rot_per', 'GM', 'BV', 'UB', 'IR', 'spec_B', 'spec_T',\n",
              "       'H_sigma', 'diameter_sigma', 'epoch', 'e', 'a', 'q', 'i', 'om', 'w',\n",
              "       'ma', 'ad', 'n', 'tp', 'per', 'per_y', 'moid', 'moid_jup', 'class',\n",
              "       'data_arc', 'condition_code', 'rms'],\n",
              "      dtype='object')"
            ]
          },
          "metadata": {},
          "execution_count": 3
        }
      ]
    },
    {
      "cell_type": "code",
      "source": [
        "df.iloc[:10, :].to_csv('/content/drive/MyDrive/test_cases/testcase')"
      ],
      "metadata": {
        "id": "Pe3b5ef0DKeZ"
      },
      "execution_count": null,
      "outputs": []
    },
    {
      "cell_type": "markdown",
      "metadata": {
        "id": "6sWd5DGUF3eR"
      },
      "source": [
        "### Feature Selection based on EDA studies"
      ]
    },
    {
      "cell_type": "code",
      "execution_count": null,
      "metadata": {
        "colab": {
          "base_uri": "https://localhost:8080/"
        },
        "id": "Mt_xL-CdG3NT",
        "outputId": "df43532b-8340-4d4a-b53b-5f9891137b1f"
      },
      "outputs": [
        {
          "output_type": "execute_result",
          "data": {
            "text/plain": [
              "(139708, 37)"
            ]
          },
          "metadata": {},
          "execution_count": 4
        }
      ],
      "source": [
        "# original dataset shape\n",
        "df.shape"
      ]
    },
    {
      "cell_type": "code",
      "execution_count": null,
      "metadata": {
        "id": "hdHnbGi-HBua"
      },
      "outputs": [],
      "source": [
        "# creating a new dataframe from master\n",
        "dfe = df.copy()"
      ]
    },
    {
      "cell_type": "markdown",
      "metadata": {
        "id": "Xsbvi5ZFq4MT"
      },
      "source": [
        "- drop features - as inferred from the Missing Value review(>80% data insuffieciency), and other reasons like data irrelevance\n",
        "- drop 'w', 'ma', 'om' as understood from EDA feature correlation and feature importance studies\n",
        "- Top most important features - albedo, H, data_arc, 'ad', 'a', 'q', 'e', moid. Orbit class, neo, pha too have strong corrlation with diameter"
      ]
    },
    {
      "cell_type": "code",
      "execution_count": null,
      "metadata": {
        "id": "WTlr3C7oPAgw"
      },
      "outputs": [],
      "source": [
        "# dataframe dfe is a fresh copy from master df, \n",
        "# removing features owing to feature irrelevance and missing value analysis (missing>80% data)\n",
        "dfe.drop(['full_name','name', 'extent', 'rot_per', 'G', 'GM', 'BV', 'UB', 'IR', 'spec_B', 'spec_T',\n",
        "       'H_sigma', 'diameter_sigma', 'per_y'], axis=1, inplace=True)"
      ]
    },
    {
      "cell_type": "code",
      "execution_count": null,
      "metadata": {
        "id": "LCqQZPzLHK_r"
      },
      "outputs": [],
      "source": [
        "# dropping features as inferred as irrelevant from EDA\n",
        "dfe.drop([ 'w', 'ma', 'om'], axis=1, inplace=True)"
      ]
    },
    {
      "cell_type": "markdown",
      "source": [
        "Below is our to_drop list for our dataset"
      ],
      "metadata": {
        "id": "eYAXajCSh54W"
      }
    },
    {
      "cell_type": "code",
      "source": [
        "to_drop_columns = ['full_name','name', 'extent', 'rot_per', 'G', 'GM', 'BV', 'UB', 'IR', 'spec_B', 'spec_T',\n",
        "       'H_sigma', 'diameter_sigma', 'per_y', 'w', 'ma', 'om']"
      ],
      "metadata": {
        "id": "_v41eHaohdR2"
      },
      "execution_count": null,
      "outputs": []
    },
    {
      "cell_type": "code",
      "execution_count": null,
      "metadata": {
        "colab": {
          "base_uri": "https://localhost:8080/"
        },
        "id": "6QFSc_5VOa6v",
        "outputId": "c9ad593f-9a5f-48ff-b3c8-f0251b8db4dc"
      },
      "outputs": [
        {
          "output_type": "execute_result",
          "data": {
            "text/plain": [
              "Index(['neo', 'pha', 'H', 'diameter', 'albedo', 'epoch', 'e', 'a', 'q', 'i',\n",
              "       'ad', 'n', 'tp', 'per', 'moid', 'moid_jup', 'class', 'data_arc',\n",
              "       'condition_code', 'rms'],\n",
              "      dtype='object')"
            ]
          },
          "metadata": {},
          "execution_count": 9
        }
      ],
      "source": [
        "# columns in the dataset\n",
        "dfe.columns"
      ]
    },
    {
      "cell_type": "code",
      "execution_count": null,
      "metadata": {
        "colab": {
          "base_uri": "https://localhost:8080/"
        },
        "id": "d-xkNJDkQkt4",
        "outputId": "b74b9e2b-a330-4d58-fb85-26e456315e22"
      },
      "outputs": [
        {
          "output_type": "execute_result",
          "data": {
            "text/plain": [
              "(139708, 20)"
            ]
          },
          "metadata": {},
          "execution_count": 10
        }
      ],
      "source": [
        "# checking shape of dataset dfe\n",
        "dfe.shape"
      ]
    },
    {
      "cell_type": "markdown",
      "metadata": {
        "id": "vXmxDwX9FvJc"
      },
      "source": [
        "## Train Test Split"
      ]
    },
    {
      "cell_type": "code",
      "execution_count": null,
      "metadata": {
        "id": "KcDAnYDjHUN5"
      },
      "outputs": [],
      "source": [
        "# defining X, y\n",
        "y = dfe.diameter\n",
        "X = dfe.drop('diameter', axis=1)"
      ]
    },
    {
      "cell_type": "markdown",
      "metadata": {
        "id": "rxNMsgY9NI1b"
      },
      "source": [
        "To do a stratified splitting for the continuous target 'diameter', i am making use of verstack package tool:\n",
        "- **verstack.stratified_continuous_split.scsplit**\n",
        "- Reference - https://pypi.org/project/verstack/"
      ]
    },
    {
      "cell_type": "code",
      "execution_count": null,
      "metadata": {
        "id": "0FzJqTyBKsro",
        "colab": {
          "base_uri": "https://localhost:8080/",
          "height": 1000
        },
        "outputId": "df712f7b-0b6d-4cff-bd24-67bcc8ef27ac"
      },
      "outputs": [
        {
          "output_type": "stream",
          "name": "stdout",
          "text": [
            "Looking in indexes: https://pypi.org/simple, https://us-python.pkg.dev/colab-wheels/public/simple/\n",
            "Collecting verstack\n",
            "  Downloading verstack-3.2.3.tar.gz (9.6 MB)\n",
            "\u001b[K     |████████████████████████████████| 9.6 MB 5.2 MB/s \n",
            "\u001b[?25hRequirement already satisfied: pandas in /usr/local/lib/python3.7/dist-packages (from verstack) (1.3.5)\n",
            "Requirement already satisfied: numpy in /usr/local/lib/python3.7/dist-packages (from verstack) (1.21.6)\n",
            "Requirement already satisfied: xgboost in /usr/local/lib/python3.7/dist-packages (from verstack) (0.90)\n",
            "Collecting scikit-learn==1.0.1\n",
            "  Downloading scikit_learn-1.0.1-cp37-cp37m-manylinux_2_12_x86_64.manylinux2010_x86_64.whl (23.2 MB)\n",
            "\u001b[K     |████████████████████████████████| 23.2 MB 92.5 MB/s \n",
            "\u001b[?25hCollecting lightgbm==3.3.0\n",
            "  Downloading lightgbm-3.3.0-py3-none-manylinux1_x86_64.whl (2.0 MB)\n",
            "\u001b[K     |████████████████████████████████| 2.0 MB 41.5 MB/s \n",
            "\u001b[?25hCollecting optuna==2.10.0\n",
            "  Downloading optuna-2.10.0-py3-none-any.whl (308 kB)\n",
            "\u001b[K     |████████████████████████████████| 308 kB 46.7 MB/s \n",
            "\u001b[?25hCollecting plotly==5.3.1\n",
            "  Downloading plotly-5.3.1-py2.py3-none-any.whl (23.9 MB)\n",
            "\u001b[K     |████████████████████████████████| 23.9 MB 1.5 MB/s \n",
            "\u001b[?25hRequirement already satisfied: matplotlib in /usr/local/lib/python3.7/dist-packages (from verstack) (3.2.2)\n",
            "Collecting python-dateutil==2.8.1\n",
            "  Downloading python_dateutil-2.8.1-py2.py3-none-any.whl (227 kB)\n",
            "\u001b[K     |████████████████████████████████| 227 kB 49.1 MB/s \n",
            "\u001b[?25hCollecting holidays==0.11.3.1\n",
            "  Downloading holidays-0.11.3.1-py3-none-any.whl (155 kB)\n",
            "\u001b[K     |████████████████████████████████| 155 kB 49.5 MB/s \n",
            "\u001b[?25hRequirement already satisfied: mlxtend in /usr/local/lib/python3.7/dist-packages (from verstack) (0.14.0)\n",
            "Collecting tensorflow==2.7.0\n",
            "  Downloading https://us-python.pkg.dev/colab-wheels/public/tensorflow/tensorflow-2.7.0%2Bzzzcolab20220506150900-cp37-cp37m-linux_x86_64.whl (665.5 MB)\n",
            "\u001b[K     |████████████████████████████████| 665.5 MB 21 kB/s \n",
            "\u001b[?25hCollecting keras==2.7.0\n",
            "  Downloading keras-2.7.0-py2.py3-none-any.whl (1.3 MB)\n",
            "\u001b[K     |████████████████████████████████| 1.3 MB 38.1 MB/s \n",
            "\u001b[?25hCollecting category_encoders==2.4.0\n",
            "  Downloading category_encoders-2.4.0-py2.py3-none-any.whl (86 kB)\n",
            "\u001b[K     |████████████████████████████████| 86 kB 5.3 MB/s \n",
            "\u001b[?25hRequirement already satisfied: scipy>=1.0.0 in /usr/local/lib/python3.7/dist-packages (from category_encoders==2.4.0->verstack) (1.7.3)\n",
            "Requirement already satisfied: patsy>=0.5.1 in /usr/local/lib/python3.7/dist-packages (from category_encoders==2.4.0->verstack) (0.5.2)\n",
            "Requirement already satisfied: statsmodels>=0.9.0 in /usr/local/lib/python3.7/dist-packages (from category_encoders==2.4.0->verstack) (0.10.2)\n",
            "Requirement already satisfied: korean-lunar-calendar in /usr/local/lib/python3.7/dist-packages (from holidays==0.11.3.1->verstack) (0.2.1)\n",
            "Requirement already satisfied: hijri-converter in /usr/local/lib/python3.7/dist-packages (from holidays==0.11.3.1->verstack) (2.2.4)\n",
            "Requirement already satisfied: convertdate>=2.3.0 in /usr/local/lib/python3.7/dist-packages (from holidays==0.11.3.1->verstack) (2.4.0)\n",
            "Requirement already satisfied: wheel in /usr/local/lib/python3.7/dist-packages (from lightgbm==3.3.0->verstack) (0.37.1)\n",
            "Requirement already satisfied: packaging>=20.0 in /usr/local/lib/python3.7/dist-packages (from optuna==2.10.0->verstack) (21.3)\n",
            "Collecting colorlog\n",
            "  Downloading colorlog-6.6.0-py2.py3-none-any.whl (11 kB)\n",
            "Requirement already satisfied: sqlalchemy>=1.1.0 in /usr/local/lib/python3.7/dist-packages (from optuna==2.10.0->verstack) (1.4.39)\n",
            "Collecting cmaes>=0.8.2\n",
            "  Downloading cmaes-0.8.2-py3-none-any.whl (15 kB)\n",
            "Requirement already satisfied: PyYAML in /usr/local/lib/python3.7/dist-packages (from optuna==2.10.0->verstack) (3.13)\n",
            "Collecting alembic\n",
            "  Downloading alembic-1.8.1-py3-none-any.whl (209 kB)\n",
            "\u001b[K     |████████████████████████████████| 209 kB 48.5 MB/s \n",
            "\u001b[?25hCollecting cliff\n",
            "  Downloading cliff-3.10.1-py3-none-any.whl (81 kB)\n",
            "\u001b[K     |████████████████████████████████| 81 kB 8.8 MB/s \n",
            "\u001b[?25hRequirement already satisfied: tqdm in /usr/local/lib/python3.7/dist-packages (from optuna==2.10.0->verstack) (4.64.0)\n",
            "Requirement already satisfied: tenacity>=6.2.0 in /usr/local/lib/python3.7/dist-packages (from plotly==5.3.1->verstack) (8.0.1)\n",
            "Requirement already satisfied: six in /usr/local/lib/python3.7/dist-packages (from plotly==5.3.1->verstack) (1.15.0)\n",
            "Requirement already satisfied: joblib>=0.11 in /usr/local/lib/python3.7/dist-packages (from scikit-learn==1.0.1->verstack) (1.1.0)\n",
            "Requirement already satisfied: threadpoolctl>=2.0.0 in /usr/local/lib/python3.7/dist-packages (from scikit-learn==1.0.1->verstack) (3.1.0)\n",
            "Requirement already satisfied: flatbuffers<3.0,>=1.12 in /usr/local/lib/python3.7/dist-packages (from tensorflow==2.7.0->verstack) (2.0)\n",
            "Requirement already satisfied: tensorboard~=2.6 in /usr/local/lib/python3.7/dist-packages (from tensorflow==2.7.0->verstack) (2.8.0)\n",
            "Requirement already satisfied: h5py>=2.9.0 in /usr/local/lib/python3.7/dist-packages (from tensorflow==2.7.0->verstack) (3.1.0)\n",
            "Requirement already satisfied: keras-preprocessing>=1.1.1 in /usr/local/lib/python3.7/dist-packages (from tensorflow==2.7.0->verstack) (1.1.2)\n",
            "Requirement already satisfied: google-pasta>=0.1.1 in /usr/local/lib/python3.7/dist-packages (from tensorflow==2.7.0->verstack) (0.2.0)\n",
            "Requirement already satisfied: absl-py>=0.4.0 in /usr/local/lib/python3.7/dist-packages (from tensorflow==2.7.0->verstack) (1.2.0)\n",
            "Requirement already satisfied: astunparse>=1.6.0 in /usr/local/lib/python3.7/dist-packages (from tensorflow==2.7.0->verstack) (1.6.3)\n",
            "Requirement already satisfied: wrapt>=1.11.0 in /usr/local/lib/python3.7/dist-packages (from tensorflow==2.7.0->verstack) (1.14.1)\n",
            "Collecting tensorflow-estimator<2.8,~=2.7.0rc0\n",
            "  Downloading tensorflow_estimator-2.7.0-py2.py3-none-any.whl (463 kB)\n",
            "\u001b[K     |████████████████████████████████| 463 kB 34.3 MB/s \n",
            "\u001b[?25hRequirement already satisfied: protobuf>=3.9.2 in /usr/local/lib/python3.7/dist-packages (from tensorflow==2.7.0->verstack) (3.17.3)\n",
            "Requirement already satisfied: libclang>=9.0.1 in /usr/local/lib/python3.7/dist-packages (from tensorflow==2.7.0->verstack) (14.0.6)\n",
            "Requirement already satisfied: opt-einsum>=2.3.2 in /usr/local/lib/python3.7/dist-packages (from tensorflow==2.7.0->verstack) (3.3.0)\n",
            "Collecting gast<0.5.0,>=0.2.1\n",
            "  Downloading gast-0.4.0-py3-none-any.whl (9.8 kB)\n",
            "Requirement already satisfied: termcolor>=1.1.0 in /usr/local/lib/python3.7/dist-packages (from tensorflow==2.7.0->verstack) (1.1.0)\n",
            "Requirement already satisfied: grpcio<2.0,>=1.24.3 in /usr/local/lib/python3.7/dist-packages (from tensorflow==2.7.0->verstack) (1.47.0)\n",
            "Requirement already satisfied: tensorflow-io-gcs-filesystem>=0.21.0 in /usr/local/lib/python3.7/dist-packages (from tensorflow==2.7.0->verstack) (0.26.0)\n",
            "Requirement already satisfied: typing-extensions>=3.6.6 in /usr/local/lib/python3.7/dist-packages (from tensorflow==2.7.0->verstack) (4.1.1)\n",
            "Requirement already satisfied: pymeeus<=1,>=0.3.13 in /usr/local/lib/python3.7/dist-packages (from convertdate>=2.3.0->holidays==0.11.3.1->verstack) (0.5.11)\n",
            "Requirement already satisfied: cached-property in /usr/local/lib/python3.7/dist-packages (from h5py>=2.9.0->tensorflow==2.7.0->verstack) (1.5.2)\n",
            "Requirement already satisfied: pyparsing!=3.0.5,>=2.0.2 in /usr/local/lib/python3.7/dist-packages (from packaging>=20.0->optuna==2.10.0->verstack) (3.0.9)\n",
            "Requirement already satisfied: pytz>=2017.3 in /usr/local/lib/python3.7/dist-packages (from pandas->verstack) (2022.1)\n",
            "Requirement already satisfied: greenlet!=0.4.17 in /usr/local/lib/python3.7/dist-packages (from sqlalchemy>=1.1.0->optuna==2.10.0->verstack) (1.1.2)\n",
            "Requirement already satisfied: importlib-metadata in /usr/local/lib/python3.7/dist-packages (from sqlalchemy>=1.1.0->optuna==2.10.0->verstack) (4.12.0)\n",
            "Requirement already satisfied: setuptools>=41.0.0 in /usr/local/lib/python3.7/dist-packages (from tensorboard~=2.6->tensorflow==2.7.0->verstack) (57.4.0)\n",
            "Requirement already satisfied: google-auth<3,>=1.6.3 in /usr/local/lib/python3.7/dist-packages (from tensorboard~=2.6->tensorflow==2.7.0->verstack) (1.35.0)\n",
            "Requirement already satisfied: requests<3,>=2.21.0 in /usr/local/lib/python3.7/dist-packages (from tensorboard~=2.6->tensorflow==2.7.0->verstack) (2.23.0)\n",
            "Requirement already satisfied: markdown>=2.6.8 in /usr/local/lib/python3.7/dist-packages (from tensorboard~=2.6->tensorflow==2.7.0->verstack) (3.4.1)\n",
            "Requirement already satisfied: werkzeug>=0.11.15 in /usr/local/lib/python3.7/dist-packages (from tensorboard~=2.6->tensorflow==2.7.0->verstack) (1.0.1)\n",
            "Requirement already satisfied: google-auth-oauthlib<0.5,>=0.4.1 in /usr/local/lib/python3.7/dist-packages (from tensorboard~=2.6->tensorflow==2.7.0->verstack) (0.4.6)\n",
            "Requirement already satisfied: tensorboard-plugin-wit>=1.6.0 in /usr/local/lib/python3.7/dist-packages (from tensorboard~=2.6->tensorflow==2.7.0->verstack) (1.8.1)\n",
            "Requirement already satisfied: tensorboard-data-server<0.7.0,>=0.6.0 in /usr/local/lib/python3.7/dist-packages (from tensorboard~=2.6->tensorflow==2.7.0->verstack) (0.6.1)\n",
            "Requirement already satisfied: rsa<5,>=3.1.4 in /usr/local/lib/python3.7/dist-packages (from google-auth<3,>=1.6.3->tensorboard~=2.6->tensorflow==2.7.0->verstack) (4.9)\n",
            "Requirement already satisfied: cachetools<5.0,>=2.0.0 in /usr/local/lib/python3.7/dist-packages (from google-auth<3,>=1.6.3->tensorboard~=2.6->tensorflow==2.7.0->verstack) (4.2.4)\n",
            "Requirement already satisfied: pyasn1-modules>=0.2.1 in /usr/local/lib/python3.7/dist-packages (from google-auth<3,>=1.6.3->tensorboard~=2.6->tensorflow==2.7.0->verstack) (0.2.8)\n",
            "Requirement already satisfied: requests-oauthlib>=0.7.0 in /usr/local/lib/python3.7/dist-packages (from google-auth-oauthlib<0.5,>=0.4.1->tensorboard~=2.6->tensorflow==2.7.0->verstack) (1.3.1)\n",
            "Requirement already satisfied: zipp>=0.5 in /usr/local/lib/python3.7/dist-packages (from importlib-metadata->sqlalchemy>=1.1.0->optuna==2.10.0->verstack) (3.8.1)\n",
            "Requirement already satisfied: pyasn1<0.5.0,>=0.4.6 in /usr/local/lib/python3.7/dist-packages (from pyasn1-modules>=0.2.1->google-auth<3,>=1.6.3->tensorboard~=2.6->tensorflow==2.7.0->verstack) (0.4.8)\n",
            "Requirement already satisfied: urllib3!=1.25.0,!=1.25.1,<1.26,>=1.21.1 in /usr/local/lib/python3.7/dist-packages (from requests<3,>=2.21.0->tensorboard~=2.6->tensorflow==2.7.0->verstack) (1.24.3)\n",
            "Requirement already satisfied: certifi>=2017.4.17 in /usr/local/lib/python3.7/dist-packages (from requests<3,>=2.21.0->tensorboard~=2.6->tensorflow==2.7.0->verstack) (2022.6.15)\n",
            "Requirement already satisfied: chardet<4,>=3.0.2 in /usr/local/lib/python3.7/dist-packages (from requests<3,>=2.21.0->tensorboard~=2.6->tensorflow==2.7.0->verstack) (3.0.4)\n",
            "Requirement already satisfied: idna<3,>=2.5 in /usr/local/lib/python3.7/dist-packages (from requests<3,>=2.21.0->tensorboard~=2.6->tensorflow==2.7.0->verstack) (2.10)\n",
            "Requirement already satisfied: oauthlib>=3.0.0 in /usr/local/lib/python3.7/dist-packages (from requests-oauthlib>=0.7.0->google-auth-oauthlib<0.5,>=0.4.1->tensorboard~=2.6->tensorflow==2.7.0->verstack) (3.2.0)\n",
            "Requirement already satisfied: importlib-resources in /usr/local/lib/python3.7/dist-packages (from alembic->optuna==2.10.0->verstack) (5.9.0)\n",
            "Collecting Mako\n",
            "  Downloading Mako-1.2.1-py3-none-any.whl (78 kB)\n",
            "\u001b[K     |████████████████████████████████| 78 kB 6.6 MB/s \n",
            "\u001b[?25hCollecting pbr!=2.1.0,>=2.0.0\n",
            "  Downloading pbr-5.10.0-py2.py3-none-any.whl (112 kB)\n",
            "\u001b[K     |████████████████████████████████| 112 kB 45.8 MB/s \n",
            "\u001b[?25hCollecting autopage>=0.4.0\n",
            "  Downloading autopage-0.5.1-py3-none-any.whl (29 kB)\n",
            "Requirement already satisfied: PrettyTable>=0.7.2 in /usr/local/lib/python3.7/dist-packages (from cliff->optuna==2.10.0->verstack) (3.3.0)\n",
            "Collecting cmd2>=1.0.0\n",
            "  Downloading cmd2-2.4.2-py3-none-any.whl (147 kB)\n",
            "\u001b[K     |████████████████████████████████| 147 kB 49.2 MB/s \n",
            "\u001b[?25hCollecting stevedore>=2.0.1\n",
            "  Downloading stevedore-3.5.0-py3-none-any.whl (49 kB)\n",
            "\u001b[K     |████████████████████████████████| 49 kB 3.4 MB/s \n",
            "\u001b[?25hRequirement already satisfied: attrs>=16.3.0 in /usr/local/lib/python3.7/dist-packages (from cmd2>=1.0.0->cliff->optuna==2.10.0->verstack) (22.1.0)\n",
            "Collecting pyperclip>=1.6\n",
            "  Downloading pyperclip-1.8.2.tar.gz (20 kB)\n",
            "Requirement already satisfied: wcwidth>=0.1.7 in /usr/local/lib/python3.7/dist-packages (from cmd2>=1.0.0->cliff->optuna==2.10.0->verstack) (0.2.5)\n",
            "Requirement already satisfied: MarkupSafe>=0.9.2 in /usr/local/lib/python3.7/dist-packages (from Mako->alembic->optuna==2.10.0->verstack) (2.0.1)\n",
            "Requirement already satisfied: kiwisolver>=1.0.1 in /usr/local/lib/python3.7/dist-packages (from matplotlib->verstack) (1.4.4)\n",
            "Requirement already satisfied: cycler>=0.10 in /usr/local/lib/python3.7/dist-packages (from matplotlib->verstack) (0.11.0)\n",
            "Building wheels for collected packages: verstack, pyperclip\n",
            "  Building wheel for verstack (setup.py) ... \u001b[?25l\u001b[?25hdone\n",
            "  Created wheel for verstack: filename=verstack-3.2.3-py3-none-any.whl size=82449 sha256=928795303db7f3c2c10974eeef0535e6698b1e6f3bb7b7f9971d3eebdfd911d0\n",
            "  Stored in directory: /root/.cache/pip/wheels/6e/41/5e/32418b66781da74c36516c3820a5fe442b5447e50a89a78760\n",
            "  Building wheel for pyperclip (setup.py) ... \u001b[?25l\u001b[?25hdone\n",
            "  Created wheel for pyperclip: filename=pyperclip-1.8.2-py3-none-any.whl size=11137 sha256=8ad04943ca0b90fec3f629ec3ec5b0c816287847428b41a5aa334d0bd5dda8f2\n",
            "  Stored in directory: /root/.cache/pip/wheels/9f/18/84/8f69f8b08169c7bae2dde6bd7daf0c19fca8c8e500ee620a28\n",
            "Successfully built verstack pyperclip\n",
            "Installing collected packages: python-dateutil, pyperclip, pbr, stevedore, Mako, cmd2, autopage, tensorflow-estimator, scikit-learn, keras, gast, colorlog, cmaes, cliff, alembic, tensorflow, plotly, optuna, lightgbm, holidays, category-encoders, verstack\n",
            "  Attempting uninstall: python-dateutil\n",
            "    Found existing installation: python-dateutil 2.8.2\n",
            "    Uninstalling python-dateutil-2.8.2:\n",
            "      Successfully uninstalled python-dateutil-2.8.2\n",
            "  Attempting uninstall: tensorflow-estimator\n",
            "    Found existing installation: tensorflow-estimator 2.8.0\n",
            "    Uninstalling tensorflow-estimator-2.8.0:\n",
            "      Successfully uninstalled tensorflow-estimator-2.8.0\n",
            "  Attempting uninstall: scikit-learn\n",
            "    Found existing installation: scikit-learn 1.0.2\n",
            "    Uninstalling scikit-learn-1.0.2:\n",
            "      Successfully uninstalled scikit-learn-1.0.2\n",
            "  Attempting uninstall: keras\n",
            "    Found existing installation: keras 2.8.0\n",
            "    Uninstalling keras-2.8.0:\n",
            "      Successfully uninstalled keras-2.8.0\n",
            "  Attempting uninstall: gast\n",
            "    Found existing installation: gast 0.5.3\n",
            "    Uninstalling gast-0.5.3:\n",
            "      Successfully uninstalled gast-0.5.3\n",
            "  Attempting uninstall: tensorflow\n",
            "    Found existing installation: tensorflow 2.8.2+zzzcolab20220719082949\n",
            "    Uninstalling tensorflow-2.8.2+zzzcolab20220719082949:\n",
            "      Successfully uninstalled tensorflow-2.8.2+zzzcolab20220719082949\n",
            "  Attempting uninstall: plotly\n",
            "    Found existing installation: plotly 5.5.0\n",
            "    Uninstalling plotly-5.5.0:\n",
            "      Successfully uninstalled plotly-5.5.0\n",
            "  Attempting uninstall: lightgbm\n",
            "    Found existing installation: lightgbm 2.2.3\n",
            "    Uninstalling lightgbm-2.2.3:\n",
            "      Successfully uninstalled lightgbm-2.2.3\n",
            "  Attempting uninstall: holidays\n",
            "    Found existing installation: holidays 0.14.2\n",
            "    Uninstalling holidays-0.14.2:\n",
            "      Successfully uninstalled holidays-0.14.2\n",
            "\u001b[31mERROR: pip's dependency resolver does not currently take into account all the packages that are installed. This behaviour is the source of the following dependency conflicts.\n",
            "prophet 1.1 requires holidays>=0.13, but you have holidays 0.11.3.1 which is incompatible.\u001b[0m\n",
            "Successfully installed Mako-1.2.1 alembic-1.8.1 autopage-0.5.1 category-encoders-2.4.0 cliff-3.10.1 cmaes-0.8.2 cmd2-2.4.2 colorlog-6.6.0 gast-0.4.0 holidays-0.11.3.1 keras-2.7.0 lightgbm-3.3.0 optuna-2.10.0 pbr-5.10.0 plotly-5.3.1 pyperclip-1.8.2 python-dateutil-2.8.1 scikit-learn-1.0.1 stevedore-3.5.0 tensorflow-2.7.0+zzzcolab20220506150900 tensorflow-estimator-2.7.0 verstack-3.2.3\n"
          ]
        },
        {
          "output_type": "display_data",
          "data": {
            "application/vnd.colab-display-data+json": {
              "pip_warning": {
                "packages": [
                  "dateutil",
                  "sklearn"
                ]
              }
            }
          },
          "metadata": {}
        }
      ],
      "source": [
        "! pip install verstack"
      ]
    },
    {
      "cell_type": "code",
      "source": [
        "#!pip install protobuf==3.20.*"
      ],
      "metadata": {
        "id": "tclNGtaeWGYI"
      },
      "execution_count": null,
      "outputs": []
    },
    {
      "cell_type": "code",
      "execution_count": null,
      "metadata": {
        "id": "NkS6POmSKyuJ",
        "colab": {
          "base_uri": "https://localhost:8080/",
          "height": 37
        },
        "outputId": "5dccb0b7-38c3-473d-9a24-6ef6cd56a590"
      },
      "outputs": [
        {
          "output_type": "execute_result",
          "data": {
            "text/plain": [
              "'3.2.3'"
            ],
            "application/vnd.google.colaboratory.intrinsic+json": {
              "type": "string"
            }
          },
          "metadata": {},
          "execution_count": 13
        }
      ],
      "source": [
        "import verstack\n",
        "verstack.__version__"
      ]
    },
    {
      "cell_type": "markdown",
      "source": [
        "Splitting data into train and test, with test_size of 0.3"
      ],
      "metadata": {
        "id": "Xkcw4wMX3YT6"
      }
    },
    {
      "cell_type": "code",
      "source": [
        "X.shape"
      ],
      "metadata": {
        "colab": {
          "base_uri": "https://localhost:8080/"
        },
        "id": "3WGqxl49HaRv",
        "outputId": "93695523-a784-4a00-b30b-c1f60eb25346"
      },
      "execution_count": null,
      "outputs": [
        {
          "output_type": "execute_result",
          "data": {
            "text/plain": [
              "(139708, 19)"
            ]
          },
          "metadata": {},
          "execution_count": 14
        }
      ]
    },
    {
      "cell_type": "code",
      "execution_count": null,
      "metadata": {
        "id": "qxLl6vZjKzzY"
      },
      "outputs": [],
      "source": [
        "from verstack.stratified_continuous_split import scsplit\n",
        "X_train, X_test, y_train, y_test = scsplit(X, y, stratify=y, test_size=0.3, random_state=0) #test_size default=0.3"
      ]
    },
    {
      "cell_type": "code",
      "source": [
        "X_train.shape, X_test.shape, y_train.shape, y_test.shape"
      ],
      "metadata": {
        "colab": {
          "base_uri": "https://localhost:8080/"
        },
        "id": "t93tUAELKjuU",
        "outputId": "2a1a8c8c-eae1-43e4-dccd-b555a27f3b45"
      },
      "execution_count": null,
      "outputs": [
        {
          "output_type": "execute_result",
          "data": {
            "text/plain": [
              "((97795, 19), (41913, 19), (97795,), (41913,))"
            ]
          },
          "metadata": {},
          "execution_count": 16
        }
      ]
    },
    {
      "cell_type": "code",
      "source": [
        "type(X_train), type(X_test), type(y_train), type(y_test)"
      ],
      "metadata": {
        "colab": {
          "base_uri": "https://localhost:8080/"
        },
        "id": "JYbvBT01LFqj",
        "outputId": "c4085b0f-5657-4b80-ab28-ca3fc98a7848"
      },
      "execution_count": null,
      "outputs": [
        {
          "output_type": "execute_result",
          "data": {
            "text/plain": [
              "(pandas.core.frame.DataFrame,\n",
              " pandas.core.frame.DataFrame,\n",
              " pandas.core.series.Series,\n",
              " pandas.core.series.Series)"
            ]
          },
          "metadata": {},
          "execution_count": 17
        }
      ]
    },
    {
      "cell_type": "code",
      "source": [
        "#save files\n",
        "save_to_csv(X_train, 'X_train')\n",
        "save_to_csv(X_test, 'X_test')\n",
        "save_to_csv(y_train, 'y_train')\n",
        "save_to_csv(y_test, 'y_test')"
      ],
      "metadata": {
        "id": "lEHbGneZESHC"
      },
      "execution_count": null,
      "outputs": []
    },
    {
      "cell_type": "code",
      "source": [
        "X_train = pd.read_csv('/content/drive/MyDrive/project_asteroid/train_test_split/X_train')\n",
        "X_test = pd.read_csv('/content/drive/MyDrive/project_asteroid/train_test_split/X_test')"
      ],
      "metadata": {
        "id": "U3GfJAtGC80j"
      },
      "execution_count": null,
      "outputs": []
    },
    {
      "cell_type": "code",
      "source": [
        "X_train.shape, X_test.shape\n"
      ],
      "metadata": {
        "colab": {
          "base_uri": "https://localhost:8080/"
        },
        "id": "MAZXRah9DVNN",
        "outputId": "0bdca13a-d225-461f-baec-7ddb19f10db5"
      },
      "execution_count": null,
      "outputs": [
        {
          "output_type": "execute_result",
          "data": {
            "text/plain": [
              "((97795, 19), (41913, 19))"
            ]
          },
          "metadata": {},
          "execution_count": 3
        }
      ]
    },
    {
      "cell_type": "code",
      "source": [
        "y_train = pd.read_csv('/content/drive/MyDrive/project_asteroid/train_test_split/y_train', squeeze=True)\n",
        "y_test = pd.read_csv('/content/drive/MyDrive/project_asteroid/train_test_split/y_test', squeeze=True)"
      ],
      "metadata": {
        "id": "810b021aDbEN"
      },
      "execution_count": null,
      "outputs": []
    },
    {
      "cell_type": "code",
      "source": [
        "y_train.shape, y_test.shape"
      ],
      "metadata": {
        "colab": {
          "base_uri": "https://localhost:8080/"
        },
        "id": "cmh7YI0OHkl4",
        "outputId": "b5dce6c7-9926-48e4-f5a6-db0b10e9e427"
      },
      "execution_count": null,
      "outputs": [
        {
          "output_type": "execute_result",
          "data": {
            "text/plain": [
              "((97795,), (41913,))"
            ]
          },
          "metadata": {},
          "execution_count": 5
        }
      ]
    },
    {
      "cell_type": "code",
      "execution_count": null,
      "metadata": {
        "id": "PiT28Lr1MF_f",
        "colab": {
          "base_uri": "https://localhost:8080/",
          "height": 298
        },
        "outputId": "c313f365-4fbd-4bff-b8a2-2a894c409189"
      },
      "outputs": [
        {
          "output_type": "display_data",
          "data": {
            "text/plain": [
              "<Figure size 1728x432 with 1 Axes>"
            ],
            "image/png": "[encoded data removed]"
          },
          "metadata": {}
        }
      ],
      "source": [
        "#plotting y_train distribution\n",
        "sns.set_style(\"whitegrid\")\n",
        "g = sns.displot(x=y_train, kde=True, rug=True, height=6, aspect=4)\n",
        "g.set(xscale='log')\n",
        "g.set_xlabels(fontsize=20)\n",
        "g.set_ylabels(fontsize=20)\n",
        "g.fig.suptitle(\"Distribution of y_train\", fontsize=20)\n",
        "plt.show()\n"
      ]
    },
    {
      "cell_type": "code",
      "execution_count": null,
      "metadata": {
        "id": "BEu--rCoMQqq",
        "colab": {
          "base_uri": "https://localhost:8080/",
          "height": 298
        },
        "outputId": "befa5d3c-7364-48cf-be53-3e0b465c62d4"
      },
      "outputs": [
        {
          "output_type": "display_data",
          "data": {
            "text/plain": [
              "<Figure size 1728x432 with 1 Axes>"
            ],
            "image/png": "[encoded data removed]"
          },
          "metadata": {}
        }
      ],
      "source": [
        "# plotting y_test distribution\n",
        "sns.set_style(\"whitegrid\")\n",
        "g = sns.displot(x=y_test, kde=True, rug=True, height=6, aspect=4)\n",
        "g.set(xscale='log')\n",
        "g.set_xlabels(fontsize=20)\n",
        "g.set_ylabels(fontsize=20)\n",
        "g.fig.suptitle(\"Distribution of y_test\", fontsize=20)\n",
        "plt.show()\n"
      ]
    },
    {
      "cell_type": "markdown",
      "metadata": {
        "id": "nNcZ9eJfNrI_"
      },
      "source": [
        "Observations:\n",
        "- distribution of y_train and y_test looks similar\n"
      ]
    },
    {
      "cell_type": "markdown",
      "source": [
        "## Categorical Variables Encoding - one hot encoding"
      ],
      "metadata": {
        "id": "YW7BipdpU8y3"
      }
    },
    {
      "cell_type": "markdown",
      "metadata": {
        "id": "SxCYyqlUokyc"
      },
      "source": [
        "We have three categorical variables:\n",
        "  - pha: 2 categories (Y/N)\n",
        "  - neo: 2 categories (Y/N)\n",
        "  - class: 11 categories of orbit classes\n",
        "\n",
        "All three categories are nominal, so we will go with one hot encoding"
      ]
    },
    {
      "cell_type": "code",
      "source": [
        "X_train =  pd.read_csv('/content/drive/MyDrive/project_asteroid/train_test_split/X_train')\n",
        "X_test =  pd.read_csv('/content/drive/MyDrive/project_asteroid/train_test_split/X_test')\n",
        "y_train = pd.read_csv('/content/drive/MyDrive/project_asteroid/train_test_split/y_train', squeeze=True)\n",
        "y_test = pd.read_csv('/content/drive/MyDrive/project_asteroid/train_test_split/y_test', squeeze=True)"
      ],
      "metadata": {
        "id": "WNdo7mU_HRkM"
      },
      "execution_count": null,
      "outputs": []
    },
    {
      "cell_type": "code",
      "source": [
        "X_train.shape, X_test.shape, y_train.shape, y_test.shape"
      ],
      "metadata": {
        "colab": {
          "base_uri": "https://localhost:8080/"
        },
        "id": "DYaL3CQ6HpDs",
        "outputId": "e28a068f-254d-48ab-b10a-b280013c8341"
      },
      "execution_count": null,
      "outputs": [
        {
          "output_type": "execute_result",
          "data": {
            "text/plain": [
              "((97795, 19), (41913, 19), (97795,), (41913,))"
            ]
          },
          "metadata": {},
          "execution_count": 6
        }
      ]
    },
    {
      "cell_type": "code",
      "source": [
        "# improting library\n",
        "from sklearn.preprocessing import OneHotEncoder"
      ],
      "metadata": {
        "id": "WI55SEGVML3r"
      },
      "execution_count": null,
      "outputs": []
    },
    {
      "cell_type": "code",
      "source": [
        "X_train.dtypes"
      ],
      "metadata": {
        "colab": {
          "base_uri": "https://localhost:8080/"
        },
        "id": "CR2uMc_mqrgw",
        "outputId": "ec9554ec-9f08-4f98-e4f7-6bd64d6adeaa"
      },
      "execution_count": null,
      "outputs": [
        {
          "output_type": "execute_result",
          "data": {
            "text/plain": [
              "neo                object\n",
              "pha                object\n",
              "H                 float64\n",
              "albedo            float64\n",
              "epoch             float64\n",
              "e                 float64\n",
              "a                 float64\n",
              "q                 float64\n",
              "i                 float64\n",
              "ad                float64\n",
              "n                 float64\n",
              "tp                float64\n",
              "per               float64\n",
              "moid              float64\n",
              "moid_jup          float64\n",
              "class              object\n",
              "data_arc          float64\n",
              "condition_code      int64\n",
              "rms               float64\n",
              "dtype: object"
            ]
          },
          "metadata": {},
          "execution_count": 8
        }
      ]
    },
    {
      "cell_type": "code",
      "source": [
        "# getting hold of the categorical columns\n",
        "cat_cols = X_train.dtypes[X_train.dtypes=='object'].index\n",
        "num_cols = X_train.dtypes[(X_train.dtypes=='float64') | (X_train.dtypes=='int64') ].index"
      ],
      "metadata": {
        "id": "LdAru2aWSAar"
      },
      "execution_count": null,
      "outputs": []
    },
    {
      "cell_type": "code",
      "source": [
        "cat_cols"
      ],
      "metadata": {
        "colab": {
          "base_uri": "https://localhost:8080/"
        },
        "id": "iS3eBwNbJbq9",
        "outputId": "a87995af-9767-40f5-d1fc-c0af127ed968"
      },
      "execution_count": null,
      "outputs": [
        {
          "output_type": "execute_result",
          "data": {
            "text/plain": [
              "Index(['neo', 'pha', 'class'], dtype='object')"
            ]
          },
          "metadata": {},
          "execution_count": 10
        }
      ]
    },
    {
      "cell_type": "code",
      "source": [
        "num_cols"
      ],
      "metadata": {
        "colab": {
          "base_uri": "https://localhost:8080/"
        },
        "id": "Ezpdmpv7Jd4W",
        "outputId": "ed0a36f4-f9f1-49a9-8c4f-f62959c9ccb4"
      },
      "execution_count": null,
      "outputs": [
        {
          "output_type": "execute_result",
          "data": {
            "text/plain": [
              "Index(['H', 'albedo', 'epoch', 'e', 'a', 'q', 'i', 'ad', 'n', 'tp', 'per',\n",
              "       'moid', 'moid_jup', 'data_arc', 'condition_code', 'rms'],\n",
              "      dtype='object')"
            ]
          },
          "metadata": {},
          "execution_count": 11
        }
      ]
    },
    {
      "cell_type": "code",
      "source": [
        "X_train[cat_cols].head()"
      ],
      "metadata": {
        "colab": {
          "base_uri": "https://localhost:8080/",
          "height": 206
        },
        "id": "j6CMwDMZS2zC",
        "outputId": "13d8b664-4c45-4a3b-d6b7-ac2accf8a614"
      },
      "execution_count": null,
      "outputs": [
        {
          "output_type": "execute_result",
          "data": {
            "text/plain": [
              "  neo pha class\n",
              "0   N   N   MBA\n",
              "1   N   N   MBA\n",
              "2   N   N   MBA\n",
              "3   N   N   MBA\n",
              "4   N   N   MBA"
            ],
            "text/html": [
              "\n",
              "  <div id=\"df-616c3f1a-e8d6-47a8-8e59-acda441f8b90\">\n",
              "    <div class=\"colab-df-container\">\n",
              "      <div>\n",
              "<style scoped>\n",
              "    .dataframe tbody tr th:only-of-type {\n",
              "        vertical-align: middle;\n",
              "    }\n",
              "\n",
              "    .dataframe tbody tr th {\n",
              "        vertical-align: top;\n",
              "    }\n",
              "\n",
              "    .dataframe thead th {\n",
              "        text-align: right;\n",
              "    }\n",
              "</style>\n",
              "<table border=\"1\" class=\"dataframe\">\n",
              "  <thead>\n",
              "    <tr style=\"text-align: right;\">\n",
              "      <th></th>\n",
              "      <th>neo</th>\n",
              "      <th>pha</th>\n",
              "      <th>class</th>\n",
              "    </tr>\n",
              "  </thead>\n",
              "  <tbody>\n",
              "    <tr>\n",
              "      <th>0</th>\n",
              "      <td>N</td>\n",
              "      <td>N</td>\n",
              "      <td>MBA</td>\n",
              "    </tr>\n",
              "    <tr>\n",
              "      <th>1</th>\n",
              "      <td>N</td>\n",
              "      <td>N</td>\n",
              "      <td>MBA</td>\n",
              "    </tr>\n",
              "    <tr>\n",
              "      <th>2</th>\n",
              "      <td>N</td>\n",
              "      <td>N</td>\n",
              "      <td>MBA</td>\n",
              "    </tr>\n",
              "    <tr>\n",
              "      <th>3</th>\n",
              "      <td>N</td>\n",
              "      <td>N</td>\n",
              "      <td>MBA</td>\n",
              "    </tr>\n",
              "    <tr>\n",
              "      <th>4</th>\n",
              "      <td>N</td>\n",
              "      <td>N</td>\n",
              "      <td>MBA</td>\n",
              "    </tr>\n",
              "  </tbody>\n",
              "</table>\n",
              "</div>\n",
              "      <button class=\"colab-df-convert\" onclick=\"convertToInteractive('df-616c3f1a-e8d6-47a8-8e59-acda441f8b90')\"\n",
              "              title=\"Convert this dataframe to an interactive table.\"\n",
              "              style=\"display:none;\">\n",
              "        \n",
              "  <svg xmlns=\"http://www.w3.org/2000/svg\" height=\"24px\"viewBox=\"0 0 24 24\"\n",
              "       width=\"24px\">\n",
              "    <path d=\"M0 0h24v24H0V0z\" fill=\"none\"/>\n",
              "    <path d=\"M18.56 5.44l.94 2.06.94-2.06 2.06-.94-2.06-.94-.94-2.06-.94 2.06-2.06.94zm-11 1L8.5 8.5l.94-2.06 2.06-.94-2.06-.94L8.5 2.5l-.94 2.06-2.06.94zm10 10l.94 2.06.94-2.06 2.06-.94-2.06-.94-.94-2.06-.94 2.06-2.06.94z\"/><path d=\"M17.41 7.96l-1.37-1.37c-.4-.4-.92-.59-1.43-.59-.52 0-1.04.2-1.43.59L10.3 9.45l-7.72 7.72c-.78.78-.78 2.05 0 2.83L4 21.41c.39.39.9.59 1.41.59.51 0 1.02-.2 1.41-.59l7.78-7.78 2.81-2.81c.8-.78.8-2.07 0-2.86zM5.41 20L4 18.59l7.72-7.72 1.47 1.35L5.41 20z\"/>\n",
              "  </svg>\n",
              "      </button>\n",
              "      \n",
              "  <style>\n",
              "    .colab-df-container {\n",
              "      display:flex;\n",
              "      flex-wrap:wrap;\n",
              "      gap: 12px;\n",
              "    }\n",
              "\n",
              "    .colab-df-convert {\n",
              "      background-color: #E8F0FE;\n",
              "      border: none;\n",
              "      border-radius: 50%;\n",
              "      cursor: pointer;\n",
              "      display: none;\n",
              "      fill: #1967D2;\n",
              "      height: 32px;\n",
              "      padding: 0 0 0 0;\n",
              "      width: 32px;\n",
              "    }\n",
              "\n",
              "    .colab-df-convert:hover {\n",
              "      background-color: #E2EBFA;\n",
              "      box-shadow: 0px 1px 2px rgba(60, 64, 67, 0.3), 0px 1px 3px 1px rgba(60, 64, 67, 0.15);\n",
              "      fill: #174EA6;\n",
              "    }\n",
              "\n",
              "    [theme=dark] .colab-df-convert {\n",
              "      background-color: #3B4455;\n",
              "      fill: #D2E3FC;\n",
              "    }\n",
              "\n",
              "    [theme=dark] .colab-df-convert:hover {\n",
              "      background-color: #434B5C;\n",
              "      box-shadow: 0px 1px 3px 1px rgba(0, 0, 0, 0.15);\n",
              "      filter: drop-shadow(0px 1px 2px rgba(0, 0, 0, 0.3));\n",
              "      fill: #FFFFFF;\n",
              "    }\n",
              "  </style>\n",
              "\n",
              "      <script>\n",
              "        const buttonEl =\n",
              "          document.querySelector('#df-616c3f1a-e8d6-47a8-8e59-acda441f8b90 button.colab-df-convert');\n",
              "        buttonEl.style.display =\n",
              "          google.colab.kernel.accessAllowed ? 'block' : 'none';\n",
              "\n",
              "        async function convertToInteractive(key) {\n",
              "          const element = document.querySelector('#df-616c3f1a-e8d6-47a8-8e59-acda441f8b90');\n",
              "          const dataTable =\n",
              "            await google.colab.kernel.invokeFunction('convertToInteractive',\n",
              "                                                     [key], {});\n",
              "          if (!dataTable) return;\n",
              "\n",
              "          const docLinkHtml = 'Like what you see? Visit the ' +\n",
              "            '<a target=\"_blank\" href=https://colab.research.google.com/notebooks/data_table.ipynb>data table notebook</a>'\n",
              "            + ' to learn more about interactive tables.';\n",
              "          element.innerHTML = '';\n",
              "          dataTable['output_type'] = 'display_data';\n",
              "          await google.colab.output.renderOutput(dataTable, element);\n",
              "          const docLink = document.createElement('div');\n",
              "          docLink.innerHTML = docLinkHtml;\n",
              "          element.appendChild(docLink);\n",
              "        }\n",
              "      </script>\n",
              "    </div>\n",
              "  </div>\n",
              "  "
            ]
          },
          "metadata": {},
          "execution_count": 12
        }
      ]
    },
    {
      "cell_type": "code",
      "source": [
        "# applying one hot encoding\n",
        "ohe = OneHotEncoder(drop='first')\n",
        "ohe.fit(X_train[cat_cols])\n",
        "X_train_cat_cols = ohe.transform(X_train[cat_cols]).toarray()\n",
        "X_test_cat_cols = ohe.transform(X_test[cat_cols]).toarray()"
      ],
      "metadata": {
        "id": "qoxkTeUMNXns"
      },
      "execution_count": null,
      "outputs": []
    },
    {
      "cell_type": "code",
      "source": [
        "import pickle\n",
        "pickle.dump(ohe, open('/content/drive/MyDrive/project_asteroid/train_test_split/ohe', 'wb'))"
      ],
      "metadata": {
        "id": "ZI1YU7T5IGO_"
      },
      "execution_count": null,
      "outputs": []
    },
    {
      "cell_type": "code",
      "source": [
        "ohe.get_feature_names_out()"
      ],
      "metadata": {
        "colab": {
          "base_uri": "https://localhost:8080/"
        },
        "id": "bnRIu7K3U6HL",
        "outputId": "4a4358f3-c427-4bd7-e590-4a48262f166d"
      },
      "execution_count": null,
      "outputs": [
        {
          "output_type": "execute_result",
          "data": {
            "text/plain": [
              "array(['neo_Y', 'pha_Y', 'class_APO', 'class_AST', 'class_ATE',\n",
              "       'class_CEN', 'class_IMB', 'class_MBA', 'class_MCA', 'class_OMB',\n",
              "       'class_TJN', 'class_TNO'], dtype=object)"
            ]
          },
          "metadata": {},
          "execution_count": 15
        }
      ]
    },
    {
      "cell_type": "markdown",
      "source": [
        "We need to concatenate encoded Categorical columns with the numerical set"
      ],
      "metadata": {
        "id": "eVTrdbpHVNAP"
      }
    },
    {
      "cell_type": "code",
      "source": [
        "X_train_encoded = np.hstack((X_train[num_cols].values, X_train_cat_cols))\n",
        "X_test_encoded = np.hstack((X_test[num_cols].values, X_test_cat_cols))"
      ],
      "metadata": {
        "id": "w8GwHYqiZf36"
      },
      "execution_count": null,
      "outputs": []
    },
    {
      "cell_type": "code",
      "source": [
        "X_train_encoded.shape,  X_test_encoded.shape"
      ],
      "metadata": {
        "colab": {
          "base_uri": "https://localhost:8080/"
        },
        "id": "0fSYa3qEbKP5",
        "outputId": "ee37d0b9-9b37-4f72-e35b-c45aaf69778e"
      },
      "execution_count": null,
      "outputs": [
        {
          "output_type": "execute_result",
          "data": {
            "text/plain": [
              "((97795, 28), (41913, 28))"
            ]
          },
          "metadata": {},
          "execution_count": 17
        }
      ]
    },
    {
      "cell_type": "code",
      "source": [
        "# creating dataframes of these outputs\n",
        "ncols = list(X_train[num_cols].columns)\n",
        "ccols = list(ohe.get_feature_names_out())\n",
        "ncols.extend(ccols)\n",
        "print(ncols)"
      ],
      "metadata": {
        "colab": {
          "base_uri": "https://localhost:8080/"
        },
        "id": "6xkBI9Z3brL5",
        "outputId": "3b3ee15b-9aa8-4019-de30-67865f8ced93"
      },
      "execution_count": null,
      "outputs": [
        {
          "output_type": "stream",
          "name": "stdout",
          "text": [
            "['H', 'albedo', 'epoch', 'e', 'a', 'q', 'i', 'ad', 'n', 'tp', 'per', 'moid', 'moid_jup', 'data_arc', 'condition_code', 'rms', 'neo_Y', 'pha_Y', 'class_APO', 'class_AST', 'class_ATE', 'class_CEN', 'class_IMB', 'class_MBA', 'class_MCA', 'class_OMB', 'class_TJN', 'class_TNO']\n"
          ]
        }
      ]
    },
    {
      "cell_type": "code",
      "source": [
        "#converting into dataframes\n",
        "X_train_encoded_df = pd.DataFrame(X_train_encoded, columns=ncols)\n",
        "X_test_encoded_df = pd.DataFrame(X_test_encoded, columns=ncols)"
      ],
      "metadata": {
        "id": "3Js2-BtTcTch"
      },
      "execution_count": null,
      "outputs": []
    },
    {
      "cell_type": "code",
      "source": [
        "X_train_encoded_df.head()"
      ],
      "metadata": {
        "colab": {
          "base_uri": "https://localhost:8080/",
          "height": 300
        },
        "id": "VTONOFasdCg4",
        "outputId": "f6cc6f58-a44d-42ec-f56c-e8a38b57b536"
      },
      "execution_count": null,
      "outputs": [
        {
          "output_type": "execute_result",
          "data": {
            "text/plain": [
              "       H  albedo      epoch       e      a      q      i    ad       n  \\\n",
              "0  14.73   0.100  2459800.5  0.0437  3.103  2.967   8.63  3.24  0.1803   \n",
              "1  17.33   0.071  2459800.5  0.1538  2.988  2.529  12.74  3.45  0.1908   \n",
              "2  14.40   0.207  2459800.5  0.0393  3.098  2.976  11.80  3.22  0.1808   \n",
              "3  13.67   0.178  2459800.5  0.1505  2.628  2.233  13.52  3.02  0.2313   \n",
              "4  13.74   0.077  2459800.5  0.1450  3.133  2.678   6.30  3.59  0.1778   \n",
              "\n",
              "           tp  ...  class_APO  class_AST  class_ATE  class_CEN  class_IMB  \\\n",
              "0  2459704.30  ...        0.0        0.0        0.0        0.0        0.0   \n",
              "1  2459459.77  ...        0.0        0.0        0.0        0.0        0.0   \n",
              "2  2459605.94  ...        0.0        0.0        0.0        0.0        0.0   \n",
              "3  2459501.23  ...        0.0        0.0        0.0        0.0        0.0   \n",
              "4  2459220.69  ...        0.0        0.0        0.0        0.0        0.0   \n",
              "\n",
              "   class_MBA  class_MCA  class_OMB  class_TJN  class_TNO  \n",
              "0        1.0        0.0        0.0        0.0        0.0  \n",
              "1        1.0        0.0        0.0        0.0        0.0  \n",
              "2        1.0        0.0        0.0        0.0        0.0  \n",
              "3        1.0        0.0        0.0        0.0        0.0  \n",
              "4        1.0        0.0        0.0        0.0        0.0  \n",
              "\n",
              "[5 rows x 28 columns]"
            ],
            "text/html": [
              "\n",
              "  <div id=\"df-8139a1a7-1226-4977-9da6-8c686ed55ce7\">\n",
              "    <div class=\"colab-df-container\">\n",
              "      <div>\n",
              "<style scoped>\n",
              "    .dataframe tbody tr th:only-of-type {\n",
              "        vertical-align: middle;\n",
              "    }\n",
              "\n",
              "    .dataframe tbody tr th {\n",
              "        vertical-align: top;\n",
              "    }\n",
              "\n",
              "    .dataframe thead th {\n",
              "        text-align: right;\n",
              "    }\n",
              "</style>\n",
              "<table border=\"1\" class=\"dataframe\">\n",
              "  <thead>\n",
              "    <tr style=\"text-align: right;\">\n",
              "      <th></th>\n",
              "      <th>H</th>\n",
              "      <th>albedo</th>\n",
              "      <th>epoch</th>\n",
              "      <th>e</th>\n",
              "      <th>a</th>\n",
              "      <th>q</th>\n",
              "      <th>i</th>\n",
              "      <th>ad</th>\n",
              "      <th>n</th>\n",
              "      <th>tp</th>\n",
              "      <th>...</th>\n",
              "      <th>class_APO</th>\n",
              "      <th>class_AST</th>\n",
              "      <th>class_ATE</th>\n",
              "      <th>class_CEN</th>\n",
              "      <th>class_IMB</th>\n",
              "      <th>class_MBA</th>\n",
              "      <th>class_MCA</th>\n",
              "      <th>class_OMB</th>\n",
              "      <th>class_TJN</th>\n",
              "      <th>class_TNO</th>\n",
              "    </tr>\n",
              "  </thead>\n",
              "  <tbody>\n",
              "    <tr>\n",
              "      <th>0</th>\n",
              "      <td>14.73</td>\n",
              "      <td>0.100</td>\n",
              "      <td>2459800.5</td>\n",
              "      <td>0.0437</td>\n",
              "      <td>3.103</td>\n",
              "      <td>2.967</td>\n",
              "      <td>8.63</td>\n",
              "      <td>3.24</td>\n",
              "      <td>0.1803</td>\n",
              "      <td>2459704.30</td>\n",
              "      <td>...</td>\n",
              "      <td>0.0</td>\n",
              "      <td>0.0</td>\n",
              "      <td>0.0</td>\n",
              "      <td>0.0</td>\n",
              "      <td>0.0</td>\n",
              "      <td>1.0</td>\n",
              "      <td>0.0</td>\n",
              "      <td>0.0</td>\n",
              "      <td>0.0</td>\n",
              "      <td>0.0</td>\n",
              "    </tr>\n",
              "    <tr>\n",
              "      <th>1</th>\n",
              "      <td>17.33</td>\n",
              "      <td>0.071</td>\n",
              "      <td>2459800.5</td>\n",
              "      <td>0.1538</td>\n",
              "      <td>2.988</td>\n",
              "      <td>2.529</td>\n",
              "      <td>12.74</td>\n",
              "      <td>3.45</td>\n",
              "      <td>0.1908</td>\n",
              "      <td>2459459.77</td>\n",
              "      <td>...</td>\n",
              "      <td>0.0</td>\n",
              "      <td>0.0</td>\n",
              "      <td>0.0</td>\n",
              "      <td>0.0</td>\n",
              "      <td>0.0</td>\n",
              "      <td>1.0</td>\n",
              "      <td>0.0</td>\n",
              "      <td>0.0</td>\n",
              "      <td>0.0</td>\n",
              "      <td>0.0</td>\n",
              "    </tr>\n",
              "    <tr>\n",
              "      <th>2</th>\n",
              "      <td>14.40</td>\n",
              "      <td>0.207</td>\n",
              "      <td>2459800.5</td>\n",
              "      <td>0.0393</td>\n",
              "      <td>3.098</td>\n",
              "      <td>2.976</td>\n",
              "      <td>11.80</td>\n",
              "      <td>3.22</td>\n",
              "      <td>0.1808</td>\n",
              "      <td>2459605.94</td>\n",
              "      <td>...</td>\n",
              "      <td>0.0</td>\n",
              "      <td>0.0</td>\n",
              "      <td>0.0</td>\n",
              "      <td>0.0</td>\n",
              "      <td>0.0</td>\n",
              "      <td>1.0</td>\n",
              "      <td>0.0</td>\n",
              "      <td>0.0</td>\n",
              "      <td>0.0</td>\n",
              "      <td>0.0</td>\n",
              "    </tr>\n",
              "    <tr>\n",
              "      <th>3</th>\n",
              "      <td>13.67</td>\n",
              "      <td>0.178</td>\n",
              "      <td>2459800.5</td>\n",
              "      <td>0.1505</td>\n",
              "      <td>2.628</td>\n",
              "      <td>2.233</td>\n",
              "      <td>13.52</td>\n",
              "      <td>3.02</td>\n",
              "      <td>0.2313</td>\n",
              "      <td>2459501.23</td>\n",
              "      <td>...</td>\n",
              "      <td>0.0</td>\n",
              "      <td>0.0</td>\n",
              "      <td>0.0</td>\n",
              "      <td>0.0</td>\n",
              "      <td>0.0</td>\n",
              "      <td>1.0</td>\n",
              "      <td>0.0</td>\n",
              "      <td>0.0</td>\n",
              "      <td>0.0</td>\n",
              "      <td>0.0</td>\n",
              "    </tr>\n",
              "    <tr>\n",
              "      <th>4</th>\n",
              "      <td>13.74</td>\n",
              "      <td>0.077</td>\n",
              "      <td>2459800.5</td>\n",
              "      <td>0.1450</td>\n",
              "      <td>3.133</td>\n",
              "      <td>2.678</td>\n",
              "      <td>6.30</td>\n",
              "      <td>3.59</td>\n",
              "      <td>0.1778</td>\n",
              "      <td>2459220.69</td>\n",
              "      <td>...</td>\n",
              "      <td>0.0</td>\n",
              "      <td>0.0</td>\n",
              "      <td>0.0</td>\n",
              "      <td>0.0</td>\n",
              "      <td>0.0</td>\n",
              "      <td>1.0</td>\n",
              "      <td>0.0</td>\n",
              "      <td>0.0</td>\n",
              "      <td>0.0</td>\n",
              "      <td>0.0</td>\n",
              "    </tr>\n",
              "  </tbody>\n",
              "</table>\n",
              "<p>5 rows × 28 columns</p>\n",
              "</div>\n",
              "      <button class=\"colab-df-convert\" onclick=\"convertToInteractive('df-8139a1a7-1226-4977-9da6-8c686ed55ce7')\"\n",
              "              title=\"Convert this dataframe to an interactive table.\"\n",
              "              style=\"display:none;\">\n",
              "        \n",
              "  <svg xmlns=\"http://www.w3.org/2000/svg\" height=\"24px\"viewBox=\"0 0 24 24\"\n",
              "       width=\"24px\">\n",
              "    <path d=\"M0 0h24v24H0V0z\" fill=\"none\"/>\n",
              "    <path d=\"M18.56 5.44l.94 2.06.94-2.06 2.06-.94-2.06-.94-.94-2.06-.94 2.06-2.06.94zm-11 1L8.5 8.5l.94-2.06 2.06-.94-2.06-.94L8.5 2.5l-.94 2.06-2.06.94zm10 10l.94 2.06.94-2.06 2.06-.94-2.06-.94-.94-2.06-.94 2.06-2.06.94z\"/><path d=\"M17.41 7.96l-1.37-1.37c-.4-.4-.92-.59-1.43-.59-.52 0-1.04.2-1.43.59L10.3 9.45l-7.72 7.72c-.78.78-.78 2.05 0 2.83L4 21.41c.39.39.9.59 1.41.59.51 0 1.02-.2 1.41-.59l7.78-7.78 2.81-2.81c.8-.78.8-2.07 0-2.86zM5.41 20L4 18.59l7.72-7.72 1.47 1.35L5.41 20z\"/>\n",
              "  </svg>\n",
              "      </button>\n",
              "      \n",
              "  <style>\n",
              "    .colab-df-container {\n",
              "      display:flex;\n",
              "      flex-wrap:wrap;\n",
              "      gap: 12px;\n",
              "    }\n",
              "\n",
              "    .colab-df-convert {\n",
              "      background-color: #E8F0FE;\n",
              "      border: none;\n",
              "      border-radius: 50%;\n",
              "      cursor: pointer;\n",
              "      display: none;\n",
              "      fill: #1967D2;\n",
              "      height: 32px;\n",
              "      padding: 0 0 0 0;\n",
              "      width: 32px;\n",
              "    }\n",
              "\n",
              "    .colab-df-convert:hover {\n",
              "      background-color: #E2EBFA;\n",
              "      box-shadow: 0px 1px 2px rgba(60, 64, 67, 0.3), 0px 1px 3px 1px rgba(60, 64, 67, 0.15);\n",
              "      fill: #174EA6;\n",
              "    }\n",
              "\n",
              "    [theme=dark] .colab-df-convert {\n",
              "      background-color: #3B4455;\n",
              "      fill: #D2E3FC;\n",
              "    }\n",
              "\n",
              "    [theme=dark] .colab-df-convert:hover {\n",
              "      background-color: #434B5C;\n",
              "      box-shadow: 0px 1px 3px 1px rgba(0, 0, 0, 0.15);\n",
              "      filter: drop-shadow(0px 1px 2px rgba(0, 0, 0, 0.3));\n",
              "      fill: #FFFFFF;\n",
              "    }\n",
              "  </style>\n",
              "\n",
              "      <script>\n",
              "        const buttonEl =\n",
              "          document.querySelector('#df-8139a1a7-1226-4977-9da6-8c686ed55ce7 button.colab-df-convert');\n",
              "        buttonEl.style.display =\n",
              "          google.colab.kernel.accessAllowed ? 'block' : 'none';\n",
              "\n",
              "        async function convertToInteractive(key) {\n",
              "          const element = document.querySelector('#df-8139a1a7-1226-4977-9da6-8c686ed55ce7');\n",
              "          const dataTable =\n",
              "            await google.colab.kernel.invokeFunction('convertToInteractive',\n",
              "                                                     [key], {});\n",
              "          if (!dataTable) return;\n",
              "\n",
              "          const docLinkHtml = 'Like what you see? Visit the ' +\n",
              "            '<a target=\"_blank\" href=https://colab.research.google.com/notebooks/data_table.ipynb>data table notebook</a>'\n",
              "            + ' to learn more about interactive tables.';\n",
              "          element.innerHTML = '';\n",
              "          dataTable['output_type'] = 'display_data';\n",
              "          await google.colab.output.renderOutput(dataTable, element);\n",
              "          const docLink = document.createElement('div');\n",
              "          docLink.innerHTML = docLinkHtml;\n",
              "          element.appendChild(docLink);\n",
              "        }\n",
              "      </script>\n",
              "    </div>\n",
              "  </div>\n",
              "  "
            ]
          },
          "metadata": {},
          "execution_count": 20
        }
      ]
    },
    {
      "cell_type": "code",
      "source": [
        "save_to_csv(X_train_encoded_df, 'X_train_encoded_df')\n",
        "save_to_csv(X_test_encoded_df, 'X_test_encoded_df')"
      ],
      "metadata": {
        "id": "8-jlGjfYD53C"
      },
      "execution_count": null,
      "outputs": []
    },
    {
      "cell_type": "markdown",
      "source": [
        "### Correlation study with encoded independent features\n",
        "Now that we have have X_train scaled and categoricaly encoded, lets have a look at the correlation between these transformed independent features"
      ],
      "metadata": {
        "id": "4bcIgR43dfhu"
      }
    },
    {
      "cell_type": "code",
      "source": [
        "#plotting heatmap for data correlation\n",
        "corr_matrix =  X_train_encoded_df.corr()\n",
        "plt.figure(figsize=(20, 8))\n",
        "mask = np.triu(np.ones_like(corr_matrix, dtype=bool))\n",
        "sns.heatmap(corr_matrix, vmax=0.8, annot=True, mask=mask, fmt='.2f', cmap=\"PiYG\")\n",
        "plt.title(\"X_train heatmap\")\n",
        "plt.show()"
      ],
      "metadata": {
        "colab": {
          "base_uri": "https://localhost:8080/",
          "height": 564
        },
        "id": "RNPIciWqd9op",
        "outputId": "052c40a4-58e8-41e0-ae12-b149949f6d5a"
      },
      "execution_count": null,
      "outputs": [
        {
          "output_type": "display_data",
          "data": {
            "text/plain": [
              "<Figure size 1440x576 with 2 Axes>"
            ],
            "image/png": "[encoded data removed]"
          },
          "metadata": {
            "needs_background": "light"
          }
        }
      ]
    },
    {
      "cell_type": "markdown",
      "metadata": {
        "id": "5JG10tA6FOcQ"
      },
      "source": [
        "Observations:\n",
        "\n",
        "- positive correlations:\n",
        "  - class_TNO display strong positive correlation with 'a', 'ad', 'per'\n",
        "  - class_TJN display positive correlation with 'q' and moid\n",
        "  - class_ATE display positive correlation with 'n'\n",
        "  - class_APO display high correlation with neo_y, and also with pha_y\n",
        "  - pha_y display high correlation neo_y\n",
        "  - neo_y display positive corelation with 'e' and 'n'\n",
        "  - 'a' and 'ad' display high positive correlation\n",
        "  - 'q' and 'moid' display high positive correlation\n",
        "  - 'ad' and 'per' display high positive correlation\n",
        "  - 'n' and 'moid_jupiter' display strong positive correlation \n",
        "  - epoch and 'tp' display strong positive correlation\n",
        "  - 'H' and rms\n",
        "\n",
        "- High/strong negative correlations observed between:\n",
        "  - class_TJN and moid_jup\n",
        "  - class_OMB and class_MBA\n",
        "  - epoch and condition_code\n",
        "  - 'tp' and condition_code\n",
        "  - 'n' and moid\n",
        "  - moid and moid_jupiter\n",
        "  - 'e' and 'q'\n",
        "  - 'H' and 'data_arc'\n",
        "  - 'q' and 'n'\n",
        "  - data_arc and rms\n",
        "  - 'H' and data_arc \n"
      ]
    },
    {
      "cell_type": "markdown",
      "metadata": {
        "id": "Oysy1H5VF1Oa"
      },
      "source": [
        "## Missing value Imputation"
      ]
    },
    {
      "cell_type": "code",
      "execution_count": null,
      "metadata": {
        "id": "ump4SmuVQ4R7",
        "colab": {
          "base_uri": "https://localhost:8080/"
        },
        "outputId": "5228c6b2-1cc2-46c4-c4ca-5ba2a079b507"
      },
      "outputs": [
        {
          "output_type": "execute_result",
          "data": {
            "text/plain": [
              "H           756\n",
              "albedo      795\n",
              "data_arc     19\n",
              "dtype: int64"
            ]
          },
          "metadata": {},
          "execution_count": 34
        }
      ],
      "source": [
        "X_train_encoded_df.isnull().sum()[X_train_encoded_df.isnull().sum().values>0]"
      ]
    },
    {
      "cell_type": "code",
      "execution_count": null,
      "metadata": {
        "id": "-9fE6ecbSsZv",
        "colab": {
          "base_uri": "https://localhost:8080/"
        },
        "outputId": "369d567f-d45c-4f32-a8d4-9ba432903c64"
      },
      "outputs": [
        {
          "output_type": "execute_result",
          "data": {
            "text/plain": [
              "H           358\n",
              "albedo      344\n",
              "data_arc      6\n",
              "dtype: int64"
            ]
          },
          "metadata": {},
          "execution_count": 35
        }
      ],
      "source": [
        "X_test_encoded_df.isnull().sum()[X_test_encoded_df.isnull().sum().values>0]"
      ]
    },
    {
      "cell_type": "markdown",
      "metadata": {
        "id": "vQcqhj2_RY25"
      },
      "source": [
        "### Discussion on coming up with a strategy to impute missing values for albedo, H, data-arc"
      ]
    },
    {
      "cell_type": "markdown",
      "metadata": {
        "id": "e-r2l3WwRfAj"
      },
      "source": [
        "#### 1. '**albedo**' - from our EDA, we know overall we have 0.8153% of missing data for the feature"
      ]
    },
    {
      "cell_type": "code",
      "execution_count": null,
      "metadata": {
        "id": "N4ESQjLORWfm",
        "colab": {
          "base_uri": "https://localhost:8080/"
        },
        "outputId": "4b8a0d45-5711-4383-fb97-5a7b86aa0e20"
      },
      "outputs": [
        {
          "output_type": "stream",
          "name": "stdout",
          "text": [
            "'albedo' mean: 0.13\n",
            "'albedo' median: 0.078\n"
          ]
        }
      ],
      "source": [
        "#let's look at X_train albedo statistics\n",
        "print(f\"'albedo' mean: {round(X_train_encoded_df.albedo.mean(), 2)}\")\n",
        "print(f\"'albedo' median: {X_train_encoded_df.albedo.median()}\")\n",
        "albedo_stats_before_imputation = X_train_encoded_df[['albedo']].describe()"
      ]
    },
    {
      "cell_type": "markdown",
      "metadata": {
        "id": "uOIiW8v4Rp9F"
      },
      "source": [
        "\n",
        "- Domain-specific information:\n",
        "\n",
        "  - Astronomical albedos are usually given by the IRAS minor planet survey[1] or the MSX minor planet survey[2] (available at the PDS).    These are geometric albedos. If there is no IRAS/MSX data a **rough average of 0.1** can be used. (Source: Source: https://en.wikipedia.org/wiki/Standard_asteroid_physical_characteristics#Albedo)\n",
        "\n",
        "  - Only a coarse estimation of size can be found from the object's magnitude because an assumption must be made for its albedo which is also not usually known for certain. The NASA near-Earth object program uses an **assumed albedo of 0.14** for this purpose.(Source: https://en.wikipedia.org/wiki/Potentially_hazardous_object#Size)\n",
        "  - [commonly assumed albedo range for asteroid is between 0.05 - 0.25](http://www.physics.sfasu.edu/astro/asteroids/sizemagnitude.html)\n",
        "  - Asteroids mainly fall into three categories - \n",
        "      - C-type: accounts for 75% of known asteroids, (albedo: 0.03-0.09)\n",
        "      - S-type(): accounts for 17%\n",
        "of known asteroids, (albedo: 0.10-0.22)\n",
        "      - M-type: rest of the asteroids, (albedo: 0.10-0.18)\n",
        "      https://nssdc.gsfc.nasa.gov/planetary/text/asteroids.txt\n",
        "  -  Where an asteroid was not included in any of these satellites, the\n",
        "diameter was estimated from the asteroid’s absolute magnitude H\n",
        "using 𝐷𝑖𝑎𝑚𝑒𝑡𝑒𝑟 = 10(3.1295−0.5 log10 (𝑎)−0.2𝐻) **with an assumed albedo of a=0.1652** – (Bowell et al. 1989) at p. 551\n",
        "    - https://arxiv.org/pdf/2010.06086.pdf\n",
        "    - (Bowell et al. 1989) at p. 551\n",
        "\n",
        "\n",
        "\n",
        "- Dataset Statistics info- 'albedo' feature mean and median value\n",
        "    ```\n",
        "    'albedo' mean: 0.13\n",
        "    'albedo' median: 0.078\n",
        "    ```\n",
        "\n",
        "** caveat: [an error in the assumed albedo can result in a significantly erroneous diameter](https://cneos.jpl.nasa.gov/tools/ast_size_est.html)\n",
        "\n",
        "\n",
        "---\n",
        "---\n",
        "**Imputation strategy**: albedo mean\n",
        "- statistic mean 0.13 seems to closer domain value 0.14 used by NASA for NEO program. Also we have another domain speicfic mention of asumed value to be 0.16\n",
        "- statistic median 0.078 goes well with C, S, M type based classes proportion and albedo range\n",
        "- Based on above facts, seems reasonable to go with mean value of 0.13"
      ]
    },
    {
      "cell_type": "markdown",
      "metadata": {
        "id": "HIyoYPineGu2"
      },
      "source": [
        "#### 2. '**H**' absolute magnitude -  from our EDA, we know overall we have 0.7974% of missing data for the feature"
      ]
    },
    {
      "cell_type": "code",
      "execution_count": null,
      "metadata": {
        "id": "WkfigLnveUZZ",
        "colab": {
          "base_uri": "https://localhost:8080/"
        },
        "outputId": "9f1b4805-9259-41c9-ba44-45374925db48"
      },
      "outputs": [
        {
          "output_type": "stream",
          "name": "stdout",
          "text": [
            "Total values missing for 'H': 756\n",
            "'H' mean: 15.36\n",
            "'H' median: 15.45\n"
          ]
        }
      ],
      "source": [
        "# total values missing\n",
        "print(f\"Total values missing for 'H': {X_train_encoded_df.H.isnull().sum()}\")\n",
        "\n",
        "#let's look at data statistic\n",
        "print(f\"'H' mean: {round(X_train_encoded_df.H.mean(), 2)}\")\n",
        "print(f\"'H' median: {X_train_encoded_df.H.median()}\")\n",
        "H_stats_before_imputation = X_train_encoded_df[['H']].describe()"
      ]
    },
    {
      "cell_type": "markdown",
      "source": [
        "- Domain-specific information:\n",
        "\n",
        "  - Most asteroids have irregular shapes (that is, very few are close to being spherical). However, the size (diameter of an equivalent sphere) of an asteroid can be estimated from its absolute magnitude H and an assumed geometric albedo\n",
        "  - CNEOS, NASA- Asteroid Size Estimator - https://cneos.jpl.nasa.gov/tools/ast_size_est.html\n",
        "     - https://www.boulder.swri.edu/clark/jssrpb04.pdf\n",
        "\n",
        "- Data Statistics based info- 'H' feature mean and median value\n",
        "    ```\n",
        "    'H' mean: 15.35\n",
        "    'H' median: 15.44\n",
        "    ```\n",
        "\n",
        "---\n",
        "---\n",
        "**Imputation strategy**: \n",
        "- Since 'diameter' is the target variable, we cannot apply the domain info of computing 'H' given diameter and albedo\n",
        "- We had the observed this in CDF plots:\n",
        "  - 80% of s1 is approx. <=22 absolute magnitude\n",
        "  - 80% of s2 is approx. <=17 absolute magnitude\n",
        "  - 80% of s3 is approx. <=14 absolute magnitude\n",
        "  - 80% of s4 is approx. <=8 absolute magnitude\n",
        "- mean and median values are closer\n",
        "- We can try imputing with mean value and see how it works out"
      ],
      "metadata": {
        "id": "O46sENeSsjfQ"
      }
    },
    {
      "cell_type": "markdown",
      "metadata": {
        "id": "MJN5WeZRkXyg"
      },
      "source": [
        "#### 3. **data_arc**\tfrom our EDA, we know overall we have 0.0179% of missing data for the feature\n",
        "\n",
        "data-arc span is number of days spanned by the data-arc"
      ]
    },
    {
      "cell_type": "code",
      "execution_count": null,
      "metadata": {
        "id": "AnB4_Wg9keVQ",
        "colab": {
          "base_uri": "https://localhost:8080/"
        },
        "outputId": "5252d272-d149-444f-8407-cc1afdbac1ec"
      },
      "outputs": [
        {
          "output_type": "stream",
          "name": "stdout",
          "text": [
            "data-arc span mean: 10139.52 days\n",
            "data-arc span median: 8544.0 days\n",
            "data-arc span mean(yr): 27.78 years\n",
            "data-arc span median(yr): 23.41 years\n"
          ]
        }
      ],
      "source": [
        "print(f\"data-arc span mean: {round(X_train.data_arc.mean(),2)} days\")\n",
        "print(f\"data-arc span median: {round(X_train.data_arc.median(),2)} days\")\n",
        "print(f\"data-arc span mean(yr): {round(X_train.data_arc.mean()/365,2)} years\")\n",
        "print(f\"data-arc span median(yr): {round(X_train.data_arc.median()/365,2)} years\")"
      ]
    },
    {
      "cell_type": "code",
      "execution_count": null,
      "metadata": {
        "id": "IFPUQ_R7kmVA",
        "colab": {
          "base_uri": "https://localhost:8080/"
        },
        "outputId": "dc8ed245-7165-494a-d8d6-52122c0725f2"
      },
      "outputs": [
        {
          "output_type": "stream",
          "name": "stdout",
          "text": [
            "data_arc mean for near earth objects(neo): 6582.870601589103\n",
            "data_arc median for near earth objects(neo): 5066.0\n",
            "data_arc min for near earth objects(neo): 1.0\n",
            "data_arc max for near earth objects(neo): 46582.0\n"
          ]
        }
      ],
      "source": [
        "print(f\"data_arc mean for near earth objects(neo): {X_train[X_train.neo=='Y'].data_arc.mean()}\")\n",
        "print(f\"data_arc median for near earth objects(neo): {X_train[X_train.neo=='Y'].data_arc.median()}\")\n",
        "print(f\"data_arc min for near earth objects(neo): {X_train[X_train.neo=='Y'].data_arc.min()}\")\n",
        "print(f\"data_arc max for near earth objects(neo): {X_train[X_train.neo=='Y'].data_arc.max()}\")"
      ]
    },
    {
      "cell_type": "code",
      "execution_count": null,
      "metadata": {
        "id": "BSuJB1umktNw",
        "colab": {
          "base_uri": "https://localhost:8080/"
        },
        "outputId": "db31f478-a179-45f5-8b9a-1221cb7627f8"
      },
      "outputs": [
        {
          "output_type": "stream",
          "name": "stdout",
          "text": [
            "data_arc mean for not-neo: 10171.856318695494\n",
            "data_arc median for not-neo: 8550.0\n",
            "data_arc min for not-neo: 1.0\n",
            "data_arc max for not-neo: 63747.0\n"
          ]
        }
      ],
      "source": [
        "print(f\"data_arc mean for not-neo: {X_train[X_train.neo=='N'].data_arc.mean()}\")\n",
        "print(f\"data_arc median for not-neo: {X_train[X_train.neo=='N'].data_arc.median()}\")\n",
        "print(f\"data_arc min for not-neo: {X_train[X_train.neo=='N'].data_arc.min()}\")\n",
        "print(f\"data_arc max for not-neo: {X_train[X_train.neo=='N'].data_arc.max()}\")"
      ]
    },
    {
      "cell_type": "markdown",
      "metadata": {
        "id": "jY5pV6l2k0Wi"
      },
      "source": [
        "Exploring the data-arc domain information, could not get enough evidence if we can consider the mean/median as nominal value to substitute missing values. \n",
        "\n",
        "**Imputation Strategy:** \n",
        "- Mean and median is not close when looking at whole train data\n",
        "- Mean and median are close for only neo data\n",
        "- While these value are again apart for non-neo data, which is expected as the variance is larger in this set\n",
        "- Median seems more reasonable here, lets try with median"
      ]
    },
    {
      "cell_type": "markdown",
      "source": [
        "### Imputation Implementation :\n",
        "- **Mean Imputation** for albedo and H\n",
        "- **Median Imputation** for data-arc"
      ],
      "metadata": {
        "id": "_opFANMIk7wO"
      }
    },
    {
      "cell_type": "code",
      "execution_count": null,
      "metadata": {
        "id": "YzfV3RAEcgiK"
      },
      "outputs": [],
      "source": [
        "## checking albedo stats\n",
        "albedo_before_imp = X_train_encoded_df[['albedo']].describe()\n",
        "H_before_imp = X_train_encoded_df[['H']].describe()"
      ]
    },
    {
      "cell_type": "code",
      "source": [
        "X_train_sim_imp = X_train_encoded_df.copy()\n",
        "X_test_sim_imp  = X_test_encoded_df.copy()"
      ],
      "metadata": {
        "id": "vjy1BkNBwPl3"
      },
      "execution_count": null,
      "outputs": []
    },
    {
      "cell_type": "code",
      "source": [
        "# appling mean imputation\n",
        "# Importing library\n",
        "from sklearn.impute import SimpleImputer\n",
        "mean_imp = SimpleImputer(strategy ='mean')\n",
        "mean_imp.fit(X_train_sim_imp.loc[:, ['albedo', 'H']])\n",
        "X_train_sim_imp.loc[:, ['albedo', 'H']] = mean_imp.transform(X_train_sim_imp.loc[:, ['albedo', 'H']])\n",
        "X_test_sim_imp.loc[:, ['albedo', 'H']] = mean_imp.transform(X_test_sim_imp.loc[:, ['albedo', 'H']])"
      ],
      "metadata": {
        "id": "aU-Qp8HHsqHY"
      },
      "execution_count": null,
      "outputs": []
    },
    {
      "cell_type": "code",
      "source": [
        "pickle.dump(mean_imp, open('/content/drive/MyDrive/project_asteroid/train_test_split/deploy/mean_imp', 'wb'))"
      ],
      "metadata": {
        "id": "N24RINhK61d1"
      },
      "execution_count": null,
      "outputs": []
    },
    {
      "cell_type": "code",
      "execution_count": null,
      "metadata": {
        "id": "6cA9VgqCdRjC",
        "colab": {
          "base_uri": "https://localhost:8080/",
          "height": 300
        },
        "outputId": "56b37b1b-a520-4796-c1ce-966f5190b1ad"
      },
      "outputs": [
        {
          "output_type": "execute_result",
          "data": {
            "text/plain": [
              "       albedo_before  albedo_after      H_before       H_after\n",
              "count   97000.000000  97795.000000  97039.000000  97795.000000\n",
              "mean        0.129872      0.129872     15.356970     15.356970\n",
              "std         0.110078      0.109630      1.423056      1.417545\n",
              "min         0.001000      0.001000      3.200000      3.200000\n",
              "25%         0.053000      0.053000     14.620000     14.630000\n",
              "50%         0.078000      0.079000     15.450000     15.440000\n",
              "75%         0.188000      0.187000     16.240000     16.230000\n",
              "max         1.000000      1.000000     29.900000     29.900000"
            ],
            "text/html": [
              "\n",
              "  <div id=\"df-1e99b679-973c-4d0a-a79b-9eff53ef13e6\">\n",
              "    <div class=\"colab-df-container\">\n",
              "      <div>\n",
              "<style scoped>\n",
              "    .dataframe tbody tr th:only-of-type {\n",
              "        vertical-align: middle;\n",
              "    }\n",
              "\n",
              "    .dataframe tbody tr th {\n",
              "        vertical-align: top;\n",
              "    }\n",
              "\n",
              "    .dataframe thead th {\n",
              "        text-align: right;\n",
              "    }\n",
              "</style>\n",
              "<table border=\"1\" class=\"dataframe\">\n",
              "  <thead>\n",
              "    <tr style=\"text-align: right;\">\n",
              "      <th></th>\n",
              "      <th>albedo_before</th>\n",
              "      <th>albedo_after</th>\n",
              "      <th>H_before</th>\n",
              "      <th>H_after</th>\n",
              "    </tr>\n",
              "  </thead>\n",
              "  <tbody>\n",
              "    <tr>\n",
              "      <th>count</th>\n",
              "      <td>97000.000000</td>\n",
              "      <td>97795.000000</td>\n",
              "      <td>97039.000000</td>\n",
              "      <td>97795.000000</td>\n",
              "    </tr>\n",
              "    <tr>\n",
              "      <th>mean</th>\n",
              "      <td>0.129872</td>\n",
              "      <td>0.129872</td>\n",
              "      <td>15.356970</td>\n",
              "      <td>15.356970</td>\n",
              "    </tr>\n",
              "    <tr>\n",
              "      <th>std</th>\n",
              "      <td>0.110078</td>\n",
              "      <td>0.109630</td>\n",
              "      <td>1.423056</td>\n",
              "      <td>1.417545</td>\n",
              "    </tr>\n",
              "    <tr>\n",
              "      <th>min</th>\n",
              "      <td>0.001000</td>\n",
              "      <td>0.001000</td>\n",
              "      <td>3.200000</td>\n",
              "      <td>3.200000</td>\n",
              "    </tr>\n",
              "    <tr>\n",
              "      <th>25%</th>\n",
              "      <td>0.053000</td>\n",
              "      <td>0.053000</td>\n",
              "      <td>14.620000</td>\n",
              "      <td>14.630000</td>\n",
              "    </tr>\n",
              "    <tr>\n",
              "      <th>50%</th>\n",
              "      <td>0.078000</td>\n",
              "      <td>0.079000</td>\n",
              "      <td>15.450000</td>\n",
              "      <td>15.440000</td>\n",
              "    </tr>\n",
              "    <tr>\n",
              "      <th>75%</th>\n",
              "      <td>0.188000</td>\n",
              "      <td>0.187000</td>\n",
              "      <td>16.240000</td>\n",
              "      <td>16.230000</td>\n",
              "    </tr>\n",
              "    <tr>\n",
              "      <th>max</th>\n",
              "      <td>1.000000</td>\n",
              "      <td>1.000000</td>\n",
              "      <td>29.900000</td>\n",
              "      <td>29.900000</td>\n",
              "    </tr>\n",
              "  </tbody>\n",
              "</table>\n",
              "</div>\n",
              "      <button class=\"colab-df-convert\" onclick=\"convertToInteractive('df-1e99b679-973c-4d0a-a79b-9eff53ef13e6')\"\n",
              "              title=\"Convert this dataframe to an interactive table.\"\n",
              "              style=\"display:none;\">\n",
              "        \n",
              "  <svg xmlns=\"http://www.w3.org/2000/svg\" height=\"24px\"viewBox=\"0 0 24 24\"\n",
              "       width=\"24px\">\n",
              "    <path d=\"M0 0h24v24H0V0z\" fill=\"none\"/>\n",
              "    <path d=\"M18.56 5.44l.94 2.06.94-2.06 2.06-.94-2.06-.94-.94-2.06-.94 2.06-2.06.94zm-11 1L8.5 8.5l.94-2.06 2.06-.94-2.06-.94L8.5 2.5l-.94 2.06-2.06.94zm10 10l.94 2.06.94-2.06 2.06-.94-2.06-.94-.94-2.06-.94 2.06-2.06.94z\"/><path d=\"M17.41 7.96l-1.37-1.37c-.4-.4-.92-.59-1.43-.59-.52 0-1.04.2-1.43.59L10.3 9.45l-7.72 7.72c-.78.78-.78 2.05 0 2.83L4 21.41c.39.39.9.59 1.41.59.51 0 1.02-.2 1.41-.59l7.78-7.78 2.81-2.81c.8-.78.8-2.07 0-2.86zM5.41 20L4 18.59l7.72-7.72 1.47 1.35L5.41 20z\"/>\n",
              "  </svg>\n",
              "      </button>\n",
              "      \n",
              "  <style>\n",
              "    .colab-df-container {\n",
              "      display:flex;\n",
              "      flex-wrap:wrap;\n",
              "      gap: 12px;\n",
              "    }\n",
              "\n",
              "    .colab-df-convert {\n",
              "      background-color: #E8F0FE;\n",
              "      border: none;\n",
              "      border-radius: 50%;\n",
              "      cursor: pointer;\n",
              "      display: none;\n",
              "      fill: #1967D2;\n",
              "      height: 32px;\n",
              "      padding: 0 0 0 0;\n",
              "      width: 32px;\n",
              "    }\n",
              "\n",
              "    .colab-df-convert:hover {\n",
              "      background-color: #E2EBFA;\n",
              "      box-shadow: 0px 1px 2px rgba(60, 64, 67, 0.3), 0px 1px 3px 1px rgba(60, 64, 67, 0.15);\n",
              "      fill: #174EA6;\n",
              "    }\n",
              "\n",
              "    [theme=dark] .colab-df-convert {\n",
              "      background-color: #3B4455;\n",
              "      fill: #D2E3FC;\n",
              "    }\n",
              "\n",
              "    [theme=dark] .colab-df-convert:hover {\n",
              "      background-color: #434B5C;\n",
              "      box-shadow: 0px 1px 3px 1px rgba(0, 0, 0, 0.15);\n",
              "      filter: drop-shadow(0px 1px 2px rgba(0, 0, 0, 0.3));\n",
              "      fill: #FFFFFF;\n",
              "    }\n",
              "  </style>\n",
              "\n",
              "      <script>\n",
              "        const buttonEl =\n",
              "          document.querySelector('#df-1e99b679-973c-4d0a-a79b-9eff53ef13e6 button.colab-df-convert');\n",
              "        buttonEl.style.display =\n",
              "          google.colab.kernel.accessAllowed ? 'block' : 'none';\n",
              "\n",
              "        async function convertToInteractive(key) {\n",
              "          const element = document.querySelector('#df-1e99b679-973c-4d0a-a79b-9eff53ef13e6');\n",
              "          const dataTable =\n",
              "            await google.colab.kernel.invokeFunction('convertToInteractive',\n",
              "                                                     [key], {});\n",
              "          if (!dataTable) return;\n",
              "\n",
              "          const docLinkHtml = 'Like what you see? Visit the ' +\n",
              "            '<a target=\"_blank\" href=https://colab.research.google.com/notebooks/data_table.ipynb>data table notebook</a>'\n",
              "            + ' to learn more about interactive tables.';\n",
              "          element.innerHTML = '';\n",
              "          dataTable['output_type'] = 'display_data';\n",
              "          await google.colab.output.renderOutput(dataTable, element);\n",
              "          const docLink = document.createElement('div');\n",
              "          docLink.innerHTML = docLinkHtml;\n",
              "          element.appendChild(docLink);\n",
              "        }\n",
              "      </script>\n",
              "    </div>\n",
              "  </div>\n",
              "  "
            ]
          },
          "metadata": {},
          "execution_count": 26
        }
      ],
      "source": [
        "## looking at the descriptive stats of albedo and H\n",
        "albedo_after_imp = X_train_sim_imp[['albedo']].describe()\n",
        "H_after_imp = X_train_sim_imp[['H']].describe()\n",
        "pd.DataFrame({'albedo_before': albedo_before_imp.albedo, 'albedo_after': albedo_after_imp.albedo, 'H_before': H_before_imp.H, 'H_after': H_after_imp.H}, index=albedo_after_imp.index)"
      ]
    },
    {
      "cell_type": "markdown",
      "metadata": {
        "id": "-qxFtE02eEF2"
      },
      "source": [
        "Obervation:\n",
        "- the descriptive stats before and after imputation looks similar."
      ]
    },
    {
      "cell_type": "code",
      "source": [
        "## checking the null values in the imputed train df\n",
        "X_train_sim_imp.isnull().sum()[X_train_sim_imp.isnull().sum() > 0]"
      ],
      "metadata": {
        "colab": {
          "base_uri": "https://localhost:8080/"
        },
        "id": "chEKXi0lZzEs",
        "outputId": "915b1cb9-1d04-4f04-d95d-369b4606ddcc"
      },
      "execution_count": null,
      "outputs": [
        {
          "output_type": "execute_result",
          "data": {
            "text/plain": [
              "data_arc    19\n",
              "dtype: int64"
            ]
          },
          "metadata": {},
          "execution_count": 45
        }
      ]
    },
    {
      "cell_type": "markdown",
      "source": [
        "We see that we have now only data_arc feature with missing values, we will impute it with median startegy"
      ],
      "metadata": {
        "id": "UAabDG_eZ8Fa"
      }
    },
    {
      "cell_type": "code",
      "source": [
        "dataarc_before_imp = X_train_sim_imp[['data_arc']].describe()"
      ],
      "metadata": {
        "id": "pGTMbsDWaLW2"
      },
      "execution_count": null,
      "outputs": []
    },
    {
      "cell_type": "code",
      "source": [
        "#creating median imputer object and fitting and transforming data\n",
        "\n",
        "median_imp = SimpleImputer(strategy ='median')\n",
        "median_imp.fit(X_train_sim_imp)\n",
        "X_train_sim_imp = median_imp.transform(X_train_sim_imp)\n",
        "X_test_sim_imp = median_imp.transform(X_test_sim_imp)"
      ],
      "metadata": {
        "id": "cJL6Dsb5lFiP"
      },
      "execution_count": null,
      "outputs": []
    },
    {
      "cell_type": "code",
      "source": [
        "pickle.dump(median_imp, open('/content/drive/MyDrive/project_asteroid/train_test_split/deploy/median_imp', 'wb'))"
      ],
      "metadata": {
        "id": "cZnpNnSHTWk3"
      },
      "execution_count": null,
      "outputs": []
    },
    {
      "cell_type": "code",
      "source": [
        "# Converting th eimputed numpy arrays to dataframe\n",
        "X_train_sim_imp_df= pd.DataFrame(X_train_sim_imp, columns=X_train_encoded_df.columns)\n",
        "X_test_sim_imp_df = pd.DataFrame(X_test_sim_imp, columns=X_train_encoded_df.columns)"
      ],
      "metadata": {
        "id": "Hi4IPmLOa8fV"
      },
      "execution_count": null,
      "outputs": []
    },
    {
      "cell_type": "code",
      "execution_count": null,
      "metadata": {
        "id": "0KZERtq1-0HR",
        "colab": {
          "base_uri": "https://localhost:8080/",
          "height": 300
        },
        "outputId": "cea738ab-8e87-4283-8d18-5d09e03766b7"
      },
      "outputs": [
        {
          "output_type": "execute_result",
          "data": {
            "text/plain": [
              "       data_arc_before  data_arc_after\n",
              "count     97776.000000    97795.000000\n",
              "mean      10139.518154    10139.208170\n",
              "std        5934.493159     5933.958303\n",
              "min           1.000000        1.000000\n",
              "25%        7293.000000     7293.000000\n",
              "50%        8544.000000     8544.000000\n",
              "75%       10716.000000    10716.000000\n",
              "max       63747.000000    63747.000000"
            ],
            "text/html": [
              "\n",
              "  <div id=\"df-13179742-b8d7-45d1-9c14-3f34f684621e\">\n",
              "    <div class=\"colab-df-container\">\n",
              "      <div>\n",
              "<style scoped>\n",
              "    .dataframe tbody tr th:only-of-type {\n",
              "        vertical-align: middle;\n",
              "    }\n",
              "\n",
              "    .dataframe tbody tr th {\n",
              "        vertical-align: top;\n",
              "    }\n",
              "\n",
              "    .dataframe thead th {\n",
              "        text-align: right;\n",
              "    }\n",
              "</style>\n",
              "<table border=\"1\" class=\"dataframe\">\n",
              "  <thead>\n",
              "    <tr style=\"text-align: right;\">\n",
              "      <th></th>\n",
              "      <th>data_arc_before</th>\n",
              "      <th>data_arc_after</th>\n",
              "    </tr>\n",
              "  </thead>\n",
              "  <tbody>\n",
              "    <tr>\n",
              "      <th>count</th>\n",
              "      <td>97776.000000</td>\n",
              "      <td>97795.000000</td>\n",
              "    </tr>\n",
              "    <tr>\n",
              "      <th>mean</th>\n",
              "      <td>10139.518154</td>\n",
              "      <td>10139.208170</td>\n",
              "    </tr>\n",
              "    <tr>\n",
              "      <th>std</th>\n",
              "      <td>5934.493159</td>\n",
              "      <td>5933.958303</td>\n",
              "    </tr>\n",
              "    <tr>\n",
              "      <th>min</th>\n",
              "      <td>1.000000</td>\n",
              "      <td>1.000000</td>\n",
              "    </tr>\n",
              "    <tr>\n",
              "      <th>25%</th>\n",
              "      <td>7293.000000</td>\n",
              "      <td>7293.000000</td>\n",
              "    </tr>\n",
              "    <tr>\n",
              "      <th>50%</th>\n",
              "      <td>8544.000000</td>\n",
              "      <td>8544.000000</td>\n",
              "    </tr>\n",
              "    <tr>\n",
              "      <th>75%</th>\n",
              "      <td>10716.000000</td>\n",
              "      <td>10716.000000</td>\n",
              "    </tr>\n",
              "    <tr>\n",
              "      <th>max</th>\n",
              "      <td>63747.000000</td>\n",
              "      <td>63747.000000</td>\n",
              "    </tr>\n",
              "  </tbody>\n",
              "</table>\n",
              "</div>\n",
              "      <button class=\"colab-df-convert\" onclick=\"convertToInteractive('df-13179742-b8d7-45d1-9c14-3f34f684621e')\"\n",
              "              title=\"Convert this dataframe to an interactive table.\"\n",
              "              style=\"display:none;\">\n",
              "        \n",
              "  <svg xmlns=\"http://www.w3.org/2000/svg\" height=\"24px\"viewBox=\"0 0 24 24\"\n",
              "       width=\"24px\">\n",
              "    <path d=\"M0 0h24v24H0V0z\" fill=\"none\"/>\n",
              "    <path d=\"M18.56 5.44l.94 2.06.94-2.06 2.06-.94-2.06-.94-.94-2.06-.94 2.06-2.06.94zm-11 1L8.5 8.5l.94-2.06 2.06-.94-2.06-.94L8.5 2.5l-.94 2.06-2.06.94zm10 10l.94 2.06.94-2.06 2.06-.94-2.06-.94-.94-2.06-.94 2.06-2.06.94z\"/><path d=\"M17.41 7.96l-1.37-1.37c-.4-.4-.92-.59-1.43-.59-.52 0-1.04.2-1.43.59L10.3 9.45l-7.72 7.72c-.78.78-.78 2.05 0 2.83L4 21.41c.39.39.9.59 1.41.59.51 0 1.02-.2 1.41-.59l7.78-7.78 2.81-2.81c.8-.78.8-2.07 0-2.86zM5.41 20L4 18.59l7.72-7.72 1.47 1.35L5.41 20z\"/>\n",
              "  </svg>\n",
              "      </button>\n",
              "      \n",
              "  <style>\n",
              "    .colab-df-container {\n",
              "      display:flex;\n",
              "      flex-wrap:wrap;\n",
              "      gap: 12px;\n",
              "    }\n",
              "\n",
              "    .colab-df-convert {\n",
              "      background-color: #E8F0FE;\n",
              "      border: none;\n",
              "      border-radius: 50%;\n",
              "      cursor: pointer;\n",
              "      display: none;\n",
              "      fill: #1967D2;\n",
              "      height: 32px;\n",
              "      padding: 0 0 0 0;\n",
              "      width: 32px;\n",
              "    }\n",
              "\n",
              "    .colab-df-convert:hover {\n",
              "      background-color: #E2EBFA;\n",
              "      box-shadow: 0px 1px 2px rgba(60, 64, 67, 0.3), 0px 1px 3px 1px rgba(60, 64, 67, 0.15);\n",
              "      fill: #174EA6;\n",
              "    }\n",
              "\n",
              "    [theme=dark] .colab-df-convert {\n",
              "      background-color: #3B4455;\n",
              "      fill: #D2E3FC;\n",
              "    }\n",
              "\n",
              "    [theme=dark] .colab-df-convert:hover {\n",
              "      background-color: #434B5C;\n",
              "      box-shadow: 0px 1px 3px 1px rgba(0, 0, 0, 0.15);\n",
              "      filter: drop-shadow(0px 1px 2px rgba(0, 0, 0, 0.3));\n",
              "      fill: #FFFFFF;\n",
              "    }\n",
              "  </style>\n",
              "\n",
              "      <script>\n",
              "        const buttonEl =\n",
              "          document.querySelector('#df-13179742-b8d7-45d1-9c14-3f34f684621e button.colab-df-convert');\n",
              "        buttonEl.style.display =\n",
              "          google.colab.kernel.accessAllowed ? 'block' : 'none';\n",
              "\n",
              "        async function convertToInteractive(key) {\n",
              "          const element = document.querySelector('#df-13179742-b8d7-45d1-9c14-3f34f684621e');\n",
              "          const dataTable =\n",
              "            await google.colab.kernel.invokeFunction('convertToInteractive',\n",
              "                                                     [key], {});\n",
              "          if (!dataTable) return;\n",
              "\n",
              "          const docLinkHtml = 'Like what you see? Visit the ' +\n",
              "            '<a target=\"_blank\" href=https://colab.research.google.com/notebooks/data_table.ipynb>data table notebook</a>'\n",
              "            + ' to learn more about interactive tables.';\n",
              "          element.innerHTML = '';\n",
              "          dataTable['output_type'] = 'display_data';\n",
              "          await google.colab.output.renderOutput(dataTable, element);\n",
              "          const docLink = document.createElement('div');\n",
              "          docLink.innerHTML = docLinkHtml;\n",
              "          element.appendChild(docLink);\n",
              "        }\n",
              "      </script>\n",
              "    </div>\n",
              "  </div>\n",
              "  "
            ]
          },
          "metadata": {},
          "execution_count": 49
        }
      ],
      "source": [
        "# checking \"data_arc\" statistics before and after imputation\n",
        "\n",
        "dataarc_after_imp = X_train_sim_imp_df[['data_arc']].describe()\n",
        "pd.DataFrame({'data_arc_before': dataarc_before_imp.data_arc, 'data_arc_after': dataarc_after_imp.data_arc}, index=dataarc_after_imp.index)"
      ]
    },
    {
      "cell_type": "markdown",
      "source": [
        "Observations:\n",
        "- data_arc stats before and after imputation looks closer"
      ],
      "metadata": {
        "id": "UWb9_vUvcSka"
      }
    },
    {
      "cell_type": "code",
      "source": [
        "X_test_sim_imp_df.head()"
      ],
      "metadata": {
        "colab": {
          "base_uri": "https://localhost:8080/",
          "height": 300
        },
        "id": "AHMMsKvs0fDn",
        "outputId": "d6278819-4112-475e-cfbb-b2a2d46373eb"
      },
      "execution_count": null,
      "outputs": [
        {
          "output_type": "execute_result",
          "data": {
            "text/plain": [
              "          H  albedo      epoch       e      a      q      i    ad       n  \\\n",
              "0  21.87000   0.110  2459800.5  0.1447  1.015  0.868  11.85  1.16  0.9640   \n",
              "1  15.35697   0.127  2455364.5  0.2174  1.977  1.548  27.12  2.41  0.3544   \n",
              "2  14.80000   0.063  2459800.5  0.1092  3.096  2.758  15.13  3.43  0.1809   \n",
              "3  16.04000   0.058  2459800.5  0.0872  3.175  2.898  13.68  3.45  0.1742   \n",
              "4  15.54000   0.076  2459800.5  0.1317  3.187  2.767   6.01  3.61  0.1733   \n",
              "\n",
              "           tp  ...  class_APO  class_AST  class_ATE  class_CEN  class_IMB  \\\n",
              "0  2459753.67  ...        1.0        0.0        0.0        0.0        0.0   \n",
              "1  2454880.84  ...        0.0        0.0        0.0        0.0        0.0   \n",
              "2  2459646.91  ...        0.0        0.0        0.0        0.0        0.0   \n",
              "3  2459559.12  ...        0.0        0.0        0.0        0.0        0.0   \n",
              "4  2459100.51  ...        0.0        0.0        0.0        0.0        0.0   \n",
              "\n",
              "   class_MBA  class_MCA  class_OMB  class_TJN  class_TNO  \n",
              "0        0.0        0.0        0.0        0.0        0.0  \n",
              "1        0.0        1.0        0.0        0.0        0.0  \n",
              "2        1.0        0.0        0.0        0.0        0.0  \n",
              "3        1.0        0.0        0.0        0.0        0.0  \n",
              "4        1.0        0.0        0.0        0.0        0.0  \n",
              "\n",
              "[5 rows x 28 columns]"
            ],
            "text/html": [
              "\n",
              "  <div id=\"df-2d071644-99c2-477f-af34-c29e5b2ae635\">\n",
              "    <div class=\"colab-df-container\">\n",
              "      <div>\n",
              "<style scoped>\n",
              "    .dataframe tbody tr th:only-of-type {\n",
              "        vertical-align: middle;\n",
              "    }\n",
              "\n",
              "    .dataframe tbody tr th {\n",
              "        vertical-align: top;\n",
              "    }\n",
              "\n",
              "    .dataframe thead th {\n",
              "        text-align: right;\n",
              "    }\n",
              "</style>\n",
              "<table border=\"1\" class=\"dataframe\">\n",
              "  <thead>\n",
              "    <tr style=\"text-align: right;\">\n",
              "      <th></th>\n",
              "      <th>H</th>\n",
              "      <th>albedo</th>\n",
              "      <th>epoch</th>\n",
              "      <th>e</th>\n",
              "      <th>a</th>\n",
              "      <th>q</th>\n",
              "      <th>i</th>\n",
              "      <th>ad</th>\n",
              "      <th>n</th>\n",
              "      <th>tp</th>\n",
              "      <th>...</th>\n",
              "      <th>class_APO</th>\n",
              "      <th>class_AST</th>\n",
              "      <th>class_ATE</th>\n",
              "      <th>class_CEN</th>\n",
              "      <th>class_IMB</th>\n",
              "      <th>class_MBA</th>\n",
              "      <th>class_MCA</th>\n",
              "      <th>class_OMB</th>\n",
              "      <th>class_TJN</th>\n",
              "      <th>class_TNO</th>\n",
              "    </tr>\n",
              "  </thead>\n",
              "  <tbody>\n",
              "    <tr>\n",
              "      <th>0</th>\n",
              "      <td>21.87000</td>\n",
              "      <td>0.110</td>\n",
              "      <td>2459800.5</td>\n",
              "      <td>0.1447</td>\n",
              "      <td>1.015</td>\n",
              "      <td>0.868</td>\n",
              "      <td>11.85</td>\n",
              "      <td>1.16</td>\n",
              "      <td>0.9640</td>\n",
              "      <td>2459753.67</td>\n",
              "      <td>...</td>\n",
              "      <td>1.0</td>\n",
              "      <td>0.0</td>\n",
              "      <td>0.0</td>\n",
              "      <td>0.0</td>\n",
              "      <td>0.0</td>\n",
              "      <td>0.0</td>\n",
              "      <td>0.0</td>\n",
              "      <td>0.0</td>\n",
              "      <td>0.0</td>\n",
              "      <td>0.0</td>\n",
              "    </tr>\n",
              "    <tr>\n",
              "      <th>1</th>\n",
              "      <td>15.35697</td>\n",
              "      <td>0.127</td>\n",
              "      <td>2455364.5</td>\n",
              "      <td>0.2174</td>\n",
              "      <td>1.977</td>\n",
              "      <td>1.548</td>\n",
              "      <td>27.12</td>\n",
              "      <td>2.41</td>\n",
              "      <td>0.3544</td>\n",
              "      <td>2454880.84</td>\n",
              "      <td>...</td>\n",
              "      <td>0.0</td>\n",
              "      <td>0.0</td>\n",
              "      <td>0.0</td>\n",
              "      <td>0.0</td>\n",
              "      <td>0.0</td>\n",
              "      <td>0.0</td>\n",
              "      <td>1.0</td>\n",
              "      <td>0.0</td>\n",
              "      <td>0.0</td>\n",
              "      <td>0.0</td>\n",
              "    </tr>\n",
              "    <tr>\n",
              "      <th>2</th>\n",
              "      <td>14.80000</td>\n",
              "      <td>0.063</td>\n",
              "      <td>2459800.5</td>\n",
              "      <td>0.1092</td>\n",
              "      <td>3.096</td>\n",
              "      <td>2.758</td>\n",
              "      <td>15.13</td>\n",
              "      <td>3.43</td>\n",
              "      <td>0.1809</td>\n",
              "      <td>2459646.91</td>\n",
              "      <td>...</td>\n",
              "      <td>0.0</td>\n",
              "      <td>0.0</td>\n",
              "      <td>0.0</td>\n",
              "      <td>0.0</td>\n",
              "      <td>0.0</td>\n",
              "      <td>1.0</td>\n",
              "      <td>0.0</td>\n",
              "      <td>0.0</td>\n",
              "      <td>0.0</td>\n",
              "      <td>0.0</td>\n",
              "    </tr>\n",
              "    <tr>\n",
              "      <th>3</th>\n",
              "      <td>16.04000</td>\n",
              "      <td>0.058</td>\n",
              "      <td>2459800.5</td>\n",
              "      <td>0.0872</td>\n",
              "      <td>3.175</td>\n",
              "      <td>2.898</td>\n",
              "      <td>13.68</td>\n",
              "      <td>3.45</td>\n",
              "      <td>0.1742</td>\n",
              "      <td>2459559.12</td>\n",
              "      <td>...</td>\n",
              "      <td>0.0</td>\n",
              "      <td>0.0</td>\n",
              "      <td>0.0</td>\n",
              "      <td>0.0</td>\n",
              "      <td>0.0</td>\n",
              "      <td>1.0</td>\n",
              "      <td>0.0</td>\n",
              "      <td>0.0</td>\n",
              "      <td>0.0</td>\n",
              "      <td>0.0</td>\n",
              "    </tr>\n",
              "    <tr>\n",
              "      <th>4</th>\n",
              "      <td>15.54000</td>\n",
              "      <td>0.076</td>\n",
              "      <td>2459800.5</td>\n",
              "      <td>0.1317</td>\n",
              "      <td>3.187</td>\n",
              "      <td>2.767</td>\n",
              "      <td>6.01</td>\n",
              "      <td>3.61</td>\n",
              "      <td>0.1733</td>\n",
              "      <td>2459100.51</td>\n",
              "      <td>...</td>\n",
              "      <td>0.0</td>\n",
              "      <td>0.0</td>\n",
              "      <td>0.0</td>\n",
              "      <td>0.0</td>\n",
              "      <td>0.0</td>\n",
              "      <td>1.0</td>\n",
              "      <td>0.0</td>\n",
              "      <td>0.0</td>\n",
              "      <td>0.0</td>\n",
              "      <td>0.0</td>\n",
              "    </tr>\n",
              "  </tbody>\n",
              "</table>\n",
              "<p>5 rows × 28 columns</p>\n",
              "</div>\n",
              "      <button class=\"colab-df-convert\" onclick=\"convertToInteractive('df-2d071644-99c2-477f-af34-c29e5b2ae635')\"\n",
              "              title=\"Convert this dataframe to an interactive table.\"\n",
              "              style=\"display:none;\">\n",
              "        \n",
              "  <svg xmlns=\"http://www.w3.org/2000/svg\" height=\"24px\"viewBox=\"0 0 24 24\"\n",
              "       width=\"24px\">\n",
              "    <path d=\"M0 0h24v24H0V0z\" fill=\"none\"/>\n",
              "    <path d=\"M18.56 5.44l.94 2.06.94-2.06 2.06-.94-2.06-.94-.94-2.06-.94 2.06-2.06.94zm-11 1L8.5 8.5l.94-2.06 2.06-.94-2.06-.94L8.5 2.5l-.94 2.06-2.06.94zm10 10l.94 2.06.94-2.06 2.06-.94-2.06-.94-.94-2.06-.94 2.06-2.06.94z\"/><path d=\"M17.41 7.96l-1.37-1.37c-.4-.4-.92-.59-1.43-.59-.52 0-1.04.2-1.43.59L10.3 9.45l-7.72 7.72c-.78.78-.78 2.05 0 2.83L4 21.41c.39.39.9.59 1.41.59.51 0 1.02-.2 1.41-.59l7.78-7.78 2.81-2.81c.8-.78.8-2.07 0-2.86zM5.41 20L4 18.59l7.72-7.72 1.47 1.35L5.41 20z\"/>\n",
              "  </svg>\n",
              "      </button>\n",
              "      \n",
              "  <style>\n",
              "    .colab-df-container {\n",
              "      display:flex;\n",
              "      flex-wrap:wrap;\n",
              "      gap: 12px;\n",
              "    }\n",
              "\n",
              "    .colab-df-convert {\n",
              "      background-color: #E8F0FE;\n",
              "      border: none;\n",
              "      border-radius: 50%;\n",
              "      cursor: pointer;\n",
              "      display: none;\n",
              "      fill: #1967D2;\n",
              "      height: 32px;\n",
              "      padding: 0 0 0 0;\n",
              "      width: 32px;\n",
              "    }\n",
              "\n",
              "    .colab-df-convert:hover {\n",
              "      background-color: #E2EBFA;\n",
              "      box-shadow: 0px 1px 2px rgba(60, 64, 67, 0.3), 0px 1px 3px 1px rgba(60, 64, 67, 0.15);\n",
              "      fill: #174EA6;\n",
              "    }\n",
              "\n",
              "    [theme=dark] .colab-df-convert {\n",
              "      background-color: #3B4455;\n",
              "      fill: #D2E3FC;\n",
              "    }\n",
              "\n",
              "    [theme=dark] .colab-df-convert:hover {\n",
              "      background-color: #434B5C;\n",
              "      box-shadow: 0px 1px 3px 1px rgba(0, 0, 0, 0.15);\n",
              "      filter: drop-shadow(0px 1px 2px rgba(0, 0, 0, 0.3));\n",
              "      fill: #FFFFFF;\n",
              "    }\n",
              "  </style>\n",
              "\n",
              "      <script>\n",
              "        const buttonEl =\n",
              "          document.querySelector('#df-2d071644-99c2-477f-af34-c29e5b2ae635 button.colab-df-convert');\n",
              "        buttonEl.style.display =\n",
              "          google.colab.kernel.accessAllowed ? 'block' : 'none';\n",
              "\n",
              "        async function convertToInteractive(key) {\n",
              "          const element = document.querySelector('#df-2d071644-99c2-477f-af34-c29e5b2ae635');\n",
              "          const dataTable =\n",
              "            await google.colab.kernel.invokeFunction('convertToInteractive',\n",
              "                                                     [key], {});\n",
              "          if (!dataTable) return;\n",
              "\n",
              "          const docLinkHtml = 'Like what you see? Visit the ' +\n",
              "            '<a target=\"_blank\" href=https://colab.research.google.com/notebooks/data_table.ipynb>data table notebook</a>'\n",
              "            + ' to learn more about interactive tables.';\n",
              "          element.innerHTML = '';\n",
              "          dataTable['output_type'] = 'display_data';\n",
              "          await google.colab.output.renderOutput(dataTable, element);\n",
              "          const docLink = document.createElement('div');\n",
              "          docLink.innerHTML = docLinkHtml;\n",
              "          element.appendChild(docLink);\n",
              "        }\n",
              "      </script>\n",
              "    </div>\n",
              "  </div>\n",
              "  "
            ]
          },
          "metadata": {},
          "execution_count": 18
        }
      ]
    },
    {
      "cell_type": "code",
      "source": [
        "save_to_csv(X_train_sim_imp_df, 'X_train_sim_imp_df')\n",
        "save_to_csv(X_test_sim_imp_df, 'X_test_sim_imp_df')"
      ],
      "metadata": {
        "id": "JsXLAutIDMU-"
      },
      "execution_count": null,
      "outputs": []
    },
    {
      "cell_type": "markdown",
      "metadata": {
        "id": "yfg1dnj_2gLo"
      },
      "source": [
        "### Let's try missing Value Imputation using **IterativeImputer**\n",
        "\n",
        "```Iterative imputation refers to a process where each feature is modeled as a function of the other features, e.g. a regression problem where missing values are predicted. Each feature is imputed sequentially, one after the other, allowing prior imputed values to be used as part of a model in predicting subsequent features. Courtesy: https://machinelearningmastery.com/ ```\n",
        "\n"
      ]
    },
    {
      "cell_type": "code",
      "source": [
        "# making a copy of the dataframe and proceed with imputation on the copied version\n",
        "X_train_iter_imp = X_train_encoded_df.copy()\n",
        "X_test_iter_imp = X_test_encoded_df.copy()"
      ],
      "metadata": {
        "id": "DanUQHc_v_av"
      },
      "execution_count": null,
      "outputs": []
    },
    {
      "cell_type": "code",
      "source": [
        "# Note This estimator is still experimental for now: the predictions and the API might change without any deprecation cycle. \n",
        "# To use it, you need to explicitly import enable_iterative_imputer\n",
        "from sklearn.experimental import enable_iterative_imputer\n",
        "from sklearn.impute import IterativeImputer\n",
        "\n",
        "iter_imp = IterativeImputer(random_state=0)\n",
        "iter_imp.fit(X_train_iter_imp)\n",
        "X_train_iter_imp = iter_imp.transform(X_train_iter_imp)\n",
        "X_test_iterr_imp = iter_imp.transform(X_test_iter_imp)"
      ],
      "metadata": {
        "id": "b0015URTeJ2b"
      },
      "execution_count": null,
      "outputs": []
    },
    {
      "cell_type": "code",
      "source": [
        "# Converting th eimputed numpy arrays to dataframe\n",
        "X_train_iter_imp= pd.DataFrame(X_train_iter_imp, columns=X_train_encoded_df.columns)\n",
        "X_test_iter_imp = pd.DataFrame(X_test_iter_imp, columns=X_train_encoded_df.columns)"
      ],
      "metadata": {
        "id": "2cz8RJJLieRD"
      },
      "execution_count": null,
      "outputs": []
    },
    {
      "cell_type": "code",
      "source": [
        "pd.DataFrame({'albedo_before_imputation': albedo_before_imp.albedo, 'albedo_after_mean_imputation': albedo_after_imp.albedo, 'albedo_iter_imp': X_train_iter_imp.albedo.describe()}, index=albedo_after_imp.index)"
      ],
      "metadata": {
        "colab": {
          "base_uri": "https://localhost:8080/"
        },
        "id": "di8vKfNvi6Ka",
        "outputId": "9c6c90a1-c45d-4d32-b4d8-ff839955630b"
      },
      "execution_count": null,
      "outputs": [
        {
          "output_type": "execute_result",
          "data": {
            "text/plain": [
              "       albedo_before_imputation  albedo_after_mean_imputation  albedo_iter_imp\n",
              "count              97000.000000                  97795.000000     97795.000000\n",
              "mean                   0.129872                      0.129872         0.129358\n",
              "std                    0.110078                      0.109630         0.109932\n",
              "min                    0.001000                      0.001000        -0.404851\n",
              "25%                    0.053000                      0.053000         0.053000\n",
              "50%                    0.078000                      0.079000         0.078000\n",
              "75%                    0.188000                      0.187000         0.187000\n",
              "max                    1.000000                      1.000000         1.000000"
            ],
            "text/html": [
              "\n",
              "  <div id=\"df-dd47eea6-ca14-4539-a2f8-e42589304ea9\">\n",
              "    <div class=\"colab-df-container\">\n",
              "      <div>\n",
              "<style scoped>\n",
              "    .dataframe tbody tr th:only-of-type {\n",
              "        vertical-align: middle;\n",
              "    }\n",
              "\n",
              "    .dataframe tbody tr th {\n",
              "        vertical-align: top;\n",
              "    }\n",
              "\n",
              "    .dataframe thead th {\n",
              "        text-align: right;\n",
              "    }\n",
              "</style>\n",
              "<table border=\"1\" class=\"dataframe\">\n",
              "  <thead>\n",
              "    <tr style=\"text-align: right;\">\n",
              "      <th></th>\n",
              "      <th>albedo_before_imputation</th>\n",
              "      <th>albedo_after_mean_imputation</th>\n",
              "      <th>albedo_iter_imp</th>\n",
              "    </tr>\n",
              "  </thead>\n",
              "  <tbody>\n",
              "    <tr>\n",
              "      <th>count</th>\n",
              "      <td>97000.000000</td>\n",
              "      <td>97795.000000</td>\n",
              "      <td>97795.000000</td>\n",
              "    </tr>\n",
              "    <tr>\n",
              "      <th>mean</th>\n",
              "      <td>0.129872</td>\n",
              "      <td>0.129872</td>\n",
              "      <td>0.129358</td>\n",
              "    </tr>\n",
              "    <tr>\n",
              "      <th>std</th>\n",
              "      <td>0.110078</td>\n",
              "      <td>0.109630</td>\n",
              "      <td>0.109932</td>\n",
              "    </tr>\n",
              "    <tr>\n",
              "      <th>min</th>\n",
              "      <td>0.001000</td>\n",
              "      <td>0.001000</td>\n",
              "      <td>-0.404851</td>\n",
              "    </tr>\n",
              "    <tr>\n",
              "      <th>25%</th>\n",
              "      <td>0.053000</td>\n",
              "      <td>0.053000</td>\n",
              "      <td>0.053000</td>\n",
              "    </tr>\n",
              "    <tr>\n",
              "      <th>50%</th>\n",
              "      <td>0.078000</td>\n",
              "      <td>0.079000</td>\n",
              "      <td>0.078000</td>\n",
              "    </tr>\n",
              "    <tr>\n",
              "      <th>75%</th>\n",
              "      <td>0.188000</td>\n",
              "      <td>0.187000</td>\n",
              "      <td>0.187000</td>\n",
              "    </tr>\n",
              "    <tr>\n",
              "      <th>max</th>\n",
              "      <td>1.000000</td>\n",
              "      <td>1.000000</td>\n",
              "      <td>1.000000</td>\n",
              "    </tr>\n",
              "  </tbody>\n",
              "</table>\n",
              "</div>\n",
              "      <button class=\"colab-df-convert\" onclick=\"convertToInteractive('df-dd47eea6-ca14-4539-a2f8-e42589304ea9')\"\n",
              "              title=\"Convert this dataframe to an interactive table.\"\n",
              "              style=\"display:none;\">\n",
              "        \n",
              "  <svg xmlns=\"http://www.w3.org/2000/svg\" height=\"24px\"viewBox=\"0 0 24 24\"\n",
              "       width=\"24px\">\n",
              "    <path d=\"M0 0h24v24H0V0z\" fill=\"none\"/>\n",
              "    <path d=\"M18.56 5.44l.94 2.06.94-2.06 2.06-.94-2.06-.94-.94-2.06-.94 2.06-2.06.94zm-11 1L8.5 8.5l.94-2.06 2.06-.94-2.06-.94L8.5 2.5l-.94 2.06-2.06.94zm10 10l.94 2.06.94-2.06 2.06-.94-2.06-.94-.94-2.06-.94 2.06-2.06.94z\"/><path d=\"M17.41 7.96l-1.37-1.37c-.4-.4-.92-.59-1.43-.59-.52 0-1.04.2-1.43.59L10.3 9.45l-7.72 7.72c-.78.78-.78 2.05 0 2.83L4 21.41c.39.39.9.59 1.41.59.51 0 1.02-.2 1.41-.59l7.78-7.78 2.81-2.81c.8-.78.8-2.07 0-2.86zM5.41 20L4 18.59l7.72-7.72 1.47 1.35L5.41 20z\"/>\n",
              "  </svg>\n",
              "      </button>\n",
              "      \n",
              "  <style>\n",
              "    .colab-df-container {\n",
              "      display:flex;\n",
              "      flex-wrap:wrap;\n",
              "      gap: 12px;\n",
              "    }\n",
              "\n",
              "    .colab-df-convert {\n",
              "      background-color: #E8F0FE;\n",
              "      border: none;\n",
              "      border-radius: 50%;\n",
              "      cursor: pointer;\n",
              "      display: none;\n",
              "      fill: #1967D2;\n",
              "      height: 32px;\n",
              "      padding: 0 0 0 0;\n",
              "      width: 32px;\n",
              "    }\n",
              "\n",
              "    .colab-df-convert:hover {\n",
              "      background-color: #E2EBFA;\n",
              "      box-shadow: 0px 1px 2px rgba(60, 64, 67, 0.3), 0px 1px 3px 1px rgba(60, 64, 67, 0.15);\n",
              "      fill: #174EA6;\n",
              "    }\n",
              "\n",
              "    [theme=dark] .colab-df-convert {\n",
              "      background-color: #3B4455;\n",
              "      fill: #D2E3FC;\n",
              "    }\n",
              "\n",
              "    [theme=dark] .colab-df-convert:hover {\n",
              "      background-color: #434B5C;\n",
              "      box-shadow: 0px 1px 3px 1px rgba(0, 0, 0, 0.15);\n",
              "      filter: drop-shadow(0px 1px 2px rgba(0, 0, 0, 0.3));\n",
              "      fill: #FFFFFF;\n",
              "    }\n",
              "  </style>\n",
              "\n",
              "      <script>\n",
              "        const buttonEl =\n",
              "          document.querySelector('#df-dd47eea6-ca14-4539-a2f8-e42589304ea9 button.colab-df-convert');\n",
              "        buttonEl.style.display =\n",
              "          google.colab.kernel.accessAllowed ? 'block' : 'none';\n",
              "\n",
              "        async function convertToInteractive(key) {\n",
              "          const element = document.querySelector('#df-dd47eea6-ca14-4539-a2f8-e42589304ea9');\n",
              "          const dataTable =\n",
              "            await google.colab.kernel.invokeFunction('convertToInteractive',\n",
              "                                                     [key], {});\n",
              "          if (!dataTable) return;\n",
              "\n",
              "          const docLinkHtml = 'Like what you see? Visit the ' +\n",
              "            '<a target=\"_blank\" href=https://colab.research.google.com/notebooks/data_table.ipynb>data table notebook</a>'\n",
              "            + ' to learn more about interactive tables.';\n",
              "          element.innerHTML = '';\n",
              "          dataTable['output_type'] = 'display_data';\n",
              "          await google.colab.output.renderOutput(dataTable, element);\n",
              "          const docLink = document.createElement('div');\n",
              "          docLink.innerHTML = docLinkHtml;\n",
              "          element.appendChild(docLink);\n",
              "        }\n",
              "      </script>\n",
              "    </div>\n",
              "  </div>\n",
              "  "
            ]
          },
          "metadata": {},
          "execution_count": 55
        }
      ]
    },
    {
      "cell_type": "code",
      "source": [
        "pd.DataFrame({'H_before_imputation': H_before_imp.H, 'H_after_mean_imputaton': H_after_imp.H, 'H_after_iter_imputation':X_train_iter_imp.H.describe()}, index=albedo_after_imp.index)"
      ],
      "metadata": {
        "colab": {
          "base_uri": "https://localhost:8080/"
        },
        "id": "epcRXiBTi7ha",
        "outputId": "642462ef-f87e-4fa1-9af4-57e8e562ef35"
      },
      "execution_count": null,
      "outputs": [
        {
          "output_type": "execute_result",
          "data": {
            "text/plain": [
              "       H_before_imputation  H_after_mean_imputaton  H_after_iter_imputation\n",
              "count         97039.000000            97795.000000             97795.000000\n",
              "mean             15.356970               15.356970                15.383629\n",
              "std               1.423056                1.417545                 1.459432\n",
              "min               3.200000                3.200000                 3.200000\n",
              "25%              14.620000               14.630000                14.630000\n",
              "50%              15.450000               15.440000                15.460000\n",
              "75%              16.240000               16.230000                16.260000\n",
              "max              29.900000               29.900000                32.128454"
            ],
            "text/html": [
              "\n",
              "  <div id=\"df-9923fff6-56aa-40ce-a5d1-461edbb1c9e9\">\n",
              "    <div class=\"colab-df-container\">\n",
              "      <div>\n",
              "<style scoped>\n",
              "    .dataframe tbody tr th:only-of-type {\n",
              "        vertical-align: middle;\n",
              "    }\n",
              "\n",
              "    .dataframe tbody tr th {\n",
              "        vertical-align: top;\n",
              "    }\n",
              "\n",
              "    .dataframe thead th {\n",
              "        text-align: right;\n",
              "    }\n",
              "</style>\n",
              "<table border=\"1\" class=\"dataframe\">\n",
              "  <thead>\n",
              "    <tr style=\"text-align: right;\">\n",
              "      <th></th>\n",
              "      <th>H_before_imputation</th>\n",
              "      <th>H_after_mean_imputaton</th>\n",
              "      <th>H_after_iter_imputation</th>\n",
              "    </tr>\n",
              "  </thead>\n",
              "  <tbody>\n",
              "    <tr>\n",
              "      <th>count</th>\n",
              "      <td>97039.000000</td>\n",
              "      <td>97795.000000</td>\n",
              "      <td>97795.000000</td>\n",
              "    </tr>\n",
              "    <tr>\n",
              "      <th>mean</th>\n",
              "      <td>15.356970</td>\n",
              "      <td>15.356970</td>\n",
              "      <td>15.383629</td>\n",
              "    </tr>\n",
              "    <tr>\n",
              "      <th>std</th>\n",
              "      <td>1.423056</td>\n",
              "      <td>1.417545</td>\n",
              "      <td>1.459432</td>\n",
              "    </tr>\n",
              "    <tr>\n",
              "      <th>min</th>\n",
              "      <td>3.200000</td>\n",
              "      <td>3.200000</td>\n",
              "      <td>3.200000</td>\n",
              "    </tr>\n",
              "    <tr>\n",
              "      <th>25%</th>\n",
              "      <td>14.620000</td>\n",
              "      <td>14.630000</td>\n",
              "      <td>14.630000</td>\n",
              "    </tr>\n",
              "    <tr>\n",
              "      <th>50%</th>\n",
              "      <td>15.450000</td>\n",
              "      <td>15.440000</td>\n",
              "      <td>15.460000</td>\n",
              "    </tr>\n",
              "    <tr>\n",
              "      <th>75%</th>\n",
              "      <td>16.240000</td>\n",
              "      <td>16.230000</td>\n",
              "      <td>16.260000</td>\n",
              "    </tr>\n",
              "    <tr>\n",
              "      <th>max</th>\n",
              "      <td>29.900000</td>\n",
              "      <td>29.900000</td>\n",
              "      <td>32.128454</td>\n",
              "    </tr>\n",
              "  </tbody>\n",
              "</table>\n",
              "</div>\n",
              "      <button class=\"colab-df-convert\" onclick=\"convertToInteractive('df-9923fff6-56aa-40ce-a5d1-461edbb1c9e9')\"\n",
              "              title=\"Convert this dataframe to an interactive table.\"\n",
              "              style=\"display:none;\">\n",
              "        \n",
              "  <svg xmlns=\"http://www.w3.org/2000/svg\" height=\"24px\"viewBox=\"0 0 24 24\"\n",
              "       width=\"24px\">\n",
              "    <path d=\"M0 0h24v24H0V0z\" fill=\"none\"/>\n",
              "    <path d=\"M18.56 5.44l.94 2.06.94-2.06 2.06-.94-2.06-.94-.94-2.06-.94 2.06-2.06.94zm-11 1L8.5 8.5l.94-2.06 2.06-.94-2.06-.94L8.5 2.5l-.94 2.06-2.06.94zm10 10l.94 2.06.94-2.06 2.06-.94-2.06-.94-.94-2.06-.94 2.06-2.06.94z\"/><path d=\"M17.41 7.96l-1.37-1.37c-.4-.4-.92-.59-1.43-.59-.52 0-1.04.2-1.43.59L10.3 9.45l-7.72 7.72c-.78.78-.78 2.05 0 2.83L4 21.41c.39.39.9.59 1.41.59.51 0 1.02-.2 1.41-.59l7.78-7.78 2.81-2.81c.8-.78.8-2.07 0-2.86zM5.41 20L4 18.59l7.72-7.72 1.47 1.35L5.41 20z\"/>\n",
              "  </svg>\n",
              "      </button>\n",
              "      \n",
              "  <style>\n",
              "    .colab-df-container {\n",
              "      display:flex;\n",
              "      flex-wrap:wrap;\n",
              "      gap: 12px;\n",
              "    }\n",
              "\n",
              "    .colab-df-convert {\n",
              "      background-color: #E8F0FE;\n",
              "      border: none;\n",
              "      border-radius: 50%;\n",
              "      cursor: pointer;\n",
              "      display: none;\n",
              "      fill: #1967D2;\n",
              "      height: 32px;\n",
              "      padding: 0 0 0 0;\n",
              "      width: 32px;\n",
              "    }\n",
              "\n",
              "    .colab-df-convert:hover {\n",
              "      background-color: #E2EBFA;\n",
              "      box-shadow: 0px 1px 2px rgba(60, 64, 67, 0.3), 0px 1px 3px 1px rgba(60, 64, 67, 0.15);\n",
              "      fill: #174EA6;\n",
              "    }\n",
              "\n",
              "    [theme=dark] .colab-df-convert {\n",
              "      background-color: #3B4455;\n",
              "      fill: #D2E3FC;\n",
              "    }\n",
              "\n",
              "    [theme=dark] .colab-df-convert:hover {\n",
              "      background-color: #434B5C;\n",
              "      box-shadow: 0px 1px 3px 1px rgba(0, 0, 0, 0.15);\n",
              "      filter: drop-shadow(0px 1px 2px rgba(0, 0, 0, 0.3));\n",
              "      fill: #FFFFFF;\n",
              "    }\n",
              "  </style>\n",
              "\n",
              "      <script>\n",
              "        const buttonEl =\n",
              "          document.querySelector('#df-9923fff6-56aa-40ce-a5d1-461edbb1c9e9 button.colab-df-convert');\n",
              "        buttonEl.style.display =\n",
              "          google.colab.kernel.accessAllowed ? 'block' : 'none';\n",
              "\n",
              "        async function convertToInteractive(key) {\n",
              "          const element = document.querySelector('#df-9923fff6-56aa-40ce-a5d1-461edbb1c9e9');\n",
              "          const dataTable =\n",
              "            await google.colab.kernel.invokeFunction('convertToInteractive',\n",
              "                                                     [key], {});\n",
              "          if (!dataTable) return;\n",
              "\n",
              "          const docLinkHtml = 'Like what you see? Visit the ' +\n",
              "            '<a target=\"_blank\" href=https://colab.research.google.com/notebooks/data_table.ipynb>data table notebook</a>'\n",
              "            + ' to learn more about interactive tables.';\n",
              "          element.innerHTML = '';\n",
              "          dataTable['output_type'] = 'display_data';\n",
              "          await google.colab.output.renderOutput(dataTable, element);\n",
              "          const docLink = document.createElement('div');\n",
              "          docLink.innerHTML = docLinkHtml;\n",
              "          element.appendChild(docLink);\n",
              "        }\n",
              "      </script>\n",
              "    </div>\n",
              "  </div>\n",
              "  "
            ]
          },
          "metadata": {},
          "execution_count": 56
        }
      ]
    },
    {
      "cell_type": "code",
      "source": [
        "pd.DataFrame({'dataarc_before_imputation': dataarc_before_imp.data_arc, 'dataarc_after_mean_imputation': dataarc_after_imp.data_arc, 'dataarc_after_iter_imputation':X_train_iter_imp.data_arc.describe()}, index=dataarc_after_imp.index)"
      ],
      "metadata": {
        "colab": {
          "base_uri": "https://localhost:8080/"
        },
        "id": "04NxH6ppiwhj",
        "outputId": "7a198b31-5ff7-4b05-e0df-316d7e899e55"
      },
      "execution_count": null,
      "outputs": [
        {
          "output_type": "execute_result",
          "data": {
            "text/plain": [
              "       dataarc_before_imputation  dataarc_after_mean_imputation  \\\n",
              "count               97776.000000                   97795.000000   \n",
              "mean                10139.518154                   10139.208170   \n",
              "std                  5934.493159                    5933.958303   \n",
              "min                     1.000000                       1.000000   \n",
              "25%                  7293.000000                    7293.000000   \n",
              "50%                  8544.000000                    8544.000000   \n",
              "75%                 10716.000000                   10716.000000   \n",
              "max                 63747.000000                   63747.000000   \n",
              "\n",
              "       dataarc_after_iter_imputation  \n",
              "count                   97795.000000  \n",
              "mean                    10137.151203  \n",
              "std                      5937.109801  \n",
              "min                    -14698.397109  \n",
              "25%                      7292.500000  \n",
              "50%                      8544.000000  \n",
              "75%                     10716.000000  \n",
              "max                     63747.000000  "
            ],
            "text/html": [
              "\n",
              "  <div id=\"df-3502a38f-800b-4610-bb78-fa3a3ea7b86d\">\n",
              "    <div class=\"colab-df-container\">\n",
              "      <div>\n",
              "<style scoped>\n",
              "    .dataframe tbody tr th:only-of-type {\n",
              "        vertical-align: middle;\n",
              "    }\n",
              "\n",
              "    .dataframe tbody tr th {\n",
              "        vertical-align: top;\n",
              "    }\n",
              "\n",
              "    .dataframe thead th {\n",
              "        text-align: right;\n",
              "    }\n",
              "</style>\n",
              "<table border=\"1\" class=\"dataframe\">\n",
              "  <thead>\n",
              "    <tr style=\"text-align: right;\">\n",
              "      <th></th>\n",
              "      <th>dataarc_before_imputation</th>\n",
              "      <th>dataarc_after_mean_imputation</th>\n",
              "      <th>dataarc_after_iter_imputation</th>\n",
              "    </tr>\n",
              "  </thead>\n",
              "  <tbody>\n",
              "    <tr>\n",
              "      <th>count</th>\n",
              "      <td>97776.000000</td>\n",
              "      <td>97795.000000</td>\n",
              "      <td>97795.000000</td>\n",
              "    </tr>\n",
              "    <tr>\n",
              "      <th>mean</th>\n",
              "      <td>10139.518154</td>\n",
              "      <td>10139.208170</td>\n",
              "      <td>10137.151203</td>\n",
              "    </tr>\n",
              "    <tr>\n",
              "      <th>std</th>\n",
              "      <td>5934.493159</td>\n",
              "      <td>5933.958303</td>\n",
              "      <td>5937.109801</td>\n",
              "    </tr>\n",
              "    <tr>\n",
              "      <th>min</th>\n",
              "      <td>1.000000</td>\n",
              "      <td>1.000000</td>\n",
              "      <td>-14698.397109</td>\n",
              "    </tr>\n",
              "    <tr>\n",
              "      <th>25%</th>\n",
              "      <td>7293.000000</td>\n",
              "      <td>7293.000000</td>\n",
              "      <td>7292.500000</td>\n",
              "    </tr>\n",
              "    <tr>\n",
              "      <th>50%</th>\n",
              "      <td>8544.000000</td>\n",
              "      <td>8544.000000</td>\n",
              "      <td>8544.000000</td>\n",
              "    </tr>\n",
              "    <tr>\n",
              "      <th>75%</th>\n",
              "      <td>10716.000000</td>\n",
              "      <td>10716.000000</td>\n",
              "      <td>10716.000000</td>\n",
              "    </tr>\n",
              "    <tr>\n",
              "      <th>max</th>\n",
              "      <td>63747.000000</td>\n",
              "      <td>63747.000000</td>\n",
              "      <td>63747.000000</td>\n",
              "    </tr>\n",
              "  </tbody>\n",
              "</table>\n",
              "</div>\n",
              "      <button class=\"colab-df-convert\" onclick=\"convertToInteractive('df-3502a38f-800b-4610-bb78-fa3a3ea7b86d')\"\n",
              "              title=\"Convert this dataframe to an interactive table.\"\n",
              "              style=\"display:none;\">\n",
              "        \n",
              "  <svg xmlns=\"http://www.w3.org/2000/svg\" height=\"24px\"viewBox=\"0 0 24 24\"\n",
              "       width=\"24px\">\n",
              "    <path d=\"M0 0h24v24H0V0z\" fill=\"none\"/>\n",
              "    <path d=\"M18.56 5.44l.94 2.06.94-2.06 2.06-.94-2.06-.94-.94-2.06-.94 2.06-2.06.94zm-11 1L8.5 8.5l.94-2.06 2.06-.94-2.06-.94L8.5 2.5l-.94 2.06-2.06.94zm10 10l.94 2.06.94-2.06 2.06-.94-2.06-.94-.94-2.06-.94 2.06-2.06.94z\"/><path d=\"M17.41 7.96l-1.37-1.37c-.4-.4-.92-.59-1.43-.59-.52 0-1.04.2-1.43.59L10.3 9.45l-7.72 7.72c-.78.78-.78 2.05 0 2.83L4 21.41c.39.39.9.59 1.41.59.51 0 1.02-.2 1.41-.59l7.78-7.78 2.81-2.81c.8-.78.8-2.07 0-2.86zM5.41 20L4 18.59l7.72-7.72 1.47 1.35L5.41 20z\"/>\n",
              "  </svg>\n",
              "      </button>\n",
              "      \n",
              "  <style>\n",
              "    .colab-df-container {\n",
              "      display:flex;\n",
              "      flex-wrap:wrap;\n",
              "      gap: 12px;\n",
              "    }\n",
              "\n",
              "    .colab-df-convert {\n",
              "      background-color: #E8F0FE;\n",
              "      border: none;\n",
              "      border-radius: 50%;\n",
              "      cursor: pointer;\n",
              "      display: none;\n",
              "      fill: #1967D2;\n",
              "      height: 32px;\n",
              "      padding: 0 0 0 0;\n",
              "      width: 32px;\n",
              "    }\n",
              "\n",
              "    .colab-df-convert:hover {\n",
              "      background-color: #E2EBFA;\n",
              "      box-shadow: 0px 1px 2px rgba(60, 64, 67, 0.3), 0px 1px 3px 1px rgba(60, 64, 67, 0.15);\n",
              "      fill: #174EA6;\n",
              "    }\n",
              "\n",
              "    [theme=dark] .colab-df-convert {\n",
              "      background-color: #3B4455;\n",
              "      fill: #D2E3FC;\n",
              "    }\n",
              "\n",
              "    [theme=dark] .colab-df-convert:hover {\n",
              "      background-color: #434B5C;\n",
              "      box-shadow: 0px 1px 3px 1px rgba(0, 0, 0, 0.15);\n",
              "      filter: drop-shadow(0px 1px 2px rgba(0, 0, 0, 0.3));\n",
              "      fill: #FFFFFF;\n",
              "    }\n",
              "  </style>\n",
              "\n",
              "      <script>\n",
              "        const buttonEl =\n",
              "          document.querySelector('#df-3502a38f-800b-4610-bb78-fa3a3ea7b86d button.colab-df-convert');\n",
              "        buttonEl.style.display =\n",
              "          google.colab.kernel.accessAllowed ? 'block' : 'none';\n",
              "\n",
              "        async function convertToInteractive(key) {\n",
              "          const element = document.querySelector('#df-3502a38f-800b-4610-bb78-fa3a3ea7b86d');\n",
              "          const dataTable =\n",
              "            await google.colab.kernel.invokeFunction('convertToInteractive',\n",
              "                                                     [key], {});\n",
              "          if (!dataTable) return;\n",
              "\n",
              "          const docLinkHtml = 'Like what you see? Visit the ' +\n",
              "            '<a target=\"_blank\" href=https://colab.research.google.com/notebooks/data_table.ipynb>data table notebook</a>'\n",
              "            + ' to learn more about interactive tables.';\n",
              "          element.innerHTML = '';\n",
              "          dataTable['output_type'] = 'display_data';\n",
              "          await google.colab.output.renderOutput(dataTable, element);\n",
              "          const docLink = document.createElement('div');\n",
              "          docLink.innerHTML = docLinkHtml;\n",
              "          element.appendChild(docLink);\n",
              "        }\n",
              "      </script>\n",
              "    </div>\n",
              "  </div>\n",
              "  "
            ]
          },
          "metadata": {},
          "execution_count": 57
        }
      ]
    },
    {
      "cell_type": "markdown",
      "source": [
        "Observation:\n",
        "- We observe that using Iterative Imputer, we ended up with some negative values for albedo and data_arc, which is not right, as we know from domain info that albedo lies between 0 and 1 and data_arc is the span - number of days which cannot be negative. So ruling out this method"
      ],
      "metadata": {
        "id": "mhqzVRlkj_0r"
      }
    },
    {
      "cell_type": "markdown",
      "source": [
        "### Lets try **KNN Imputer**"
      ],
      "metadata": {
        "id": "YNNoqKwok-x7"
      }
    },
    {
      "cell_type": "markdown",
      "source": [
        "- Imputing using KNNImputer with k=5\n",
        "- To apply KNN-based imputation, since ts a distance based algorithm, we would need to standardize the data"
      ],
      "metadata": {
        "id": "gAdeLWDQevhe"
      }
    },
    {
      "cell_type": "code",
      "source": [
        "# making a copy of the dataframe and proceed with imputation on the copied version\n",
        "X_train_enc = X_train_encoded_df.copy()\n",
        "X_test_enc= X_test_encoded_df.copy()"
      ],
      "metadata": {
        "id": "C1ejqIBNlCcj"
      },
      "execution_count": null,
      "outputs": []
    },
    {
      "cell_type": "code",
      "source": [
        "#numerical columns in this set\n",
        "num_cols = X_train.dtypes[(X_train.dtypes=='float64') | (X_train.dtypes=='int64') ].index.tolist()\n",
        "print(num_cols)"
      ],
      "metadata": {
        "colab": {
          "base_uri": "https://localhost:8080/"
        },
        "id": "Vp-1QpMoI3YN",
        "outputId": "ac634094-09fc-4dff-ea2c-aaa868cad536"
      },
      "execution_count": null,
      "outputs": [
        {
          "output_type": "stream",
          "name": "stdout",
          "text": [
            "['H', 'albedo', 'epoch', 'e', 'a', 'q', 'i', 'ad', 'n', 'tp', 'per', 'moid', 'moid_jup', 'data_arc', 'condition_code', 'rms']\n"
          ]
        }
      ]
    },
    {
      "cell_type": "code",
      "source": [
        "from sklearn.preprocessing import StandardScaler\n",
        "scaler = StandardScaler()\n",
        "scaler.fit(X_train_enc.loc[:, num_cols])\n",
        "X_train_enc.loc[:,num_cols] = scaler.transform(X_train_enc.loc[:, num_cols])\n",
        "X_test_enc.loc[:,num_cols] = scaler.transform(X_test_enc.loc[:, num_cols])"
      ],
      "metadata": {
        "id": "KrwfrymmHH8v"
      },
      "execution_count": null,
      "outputs": []
    },
    {
      "cell_type": "code",
      "source": [
        "import pickle\n",
        "pickle.dump(scaler, open('/content/drive/MyDrive/project_asteroid/train_test_split/deploy/scaler', 'wb'))"
      ],
      "metadata": {
        "id": "g9EB4LE8KY12"
      },
      "execution_count": null,
      "outputs": []
    },
    {
      "cell_type": "code",
      "source": [
        "X_train_enc.isnull().sum()[X_train_enc.isnull().sum()>0]"
      ],
      "metadata": {
        "colab": {
          "base_uri": "https://localhost:8080/"
        },
        "id": "HHFBaFjdKL2u",
        "outputId": "1f97d118-9184-41a5-fed2-38af1da6c288"
      },
      "execution_count": null,
      "outputs": [
        {
          "output_type": "execute_result",
          "data": {
            "text/plain": [
              "H           756\n",
              "albedo      795\n",
              "data_arc     19\n",
              "dtype: int64"
            ]
          },
          "metadata": {},
          "execution_count": 26
        }
      ]
    },
    {
      "cell_type": "code",
      "source": [
        "from sklearn.impute import KNNImputer\n",
        "\n",
        "#initializing KNNImputer\n",
        "knn_imp = KNNImputer(n_neighbors=5)\n",
        "knn_imp.fit(X_train_enc) #fitting the train\n",
        "X_train_knn_imp = knn_imp.transform(X_train_enc)\n",
        "X_test_knn_imp = knn_imp.transform(X_test_enc)"
      ],
      "metadata": {
        "id": "KbzEZwi1l19i"
      },
      "execution_count": null,
      "outputs": []
    },
    {
      "cell_type": "code",
      "source": [
        "import pickle\n",
        "pickle.dump(knn_imp, open('/content/drive/MyDrive/project_asteroid/train_test_split/deploy/knn_imp', 'wb'))"
      ],
      "metadata": {
        "id": "_8EZQfHTKqHn"
      },
      "execution_count": null,
      "outputs": []
    },
    {
      "cell_type": "code",
      "source": [
        "# Converting the imputed numpy arrays to dataframe\n",
        "X_train_knn_imp = pd.DataFrame(X_train_knn_imp, columns=X_train_encoded_df.columns)\n",
        "X_test_knn_imp = pd.DataFrame(X_test_knn_imp, columns=X_train_encoded_df.columns)"
      ],
      "metadata": {
        "id": "odeThBPXKkku"
      },
      "execution_count": null,
      "outputs": []
    },
    {
      "cell_type": "code",
      "source": [
        "#verifying for any missing data\n",
        "X_train_knn_imp.isnull().sum()[X_train_knn_imp.isnull().sum()>0]"
      ],
      "metadata": {
        "colab": {
          "base_uri": "https://localhost:8080/"
        },
        "id": "60QyYMlPKZGl",
        "outputId": "ded7f7a3-be2c-4a97-b7ad-c555955b0831"
      },
      "execution_count": null,
      "outputs": [
        {
          "output_type": "execute_result",
          "data": {
            "text/plain": [
              "Series([], dtype: int64)"
            ]
          },
          "metadata": {},
          "execution_count": 30
        }
      ]
    },
    {
      "cell_type": "markdown",
      "source": [
        "We have imputed all the missing values in our data using KNNImputer(n_neighbors=5)"
      ],
      "metadata": {
        "id": "GOD38yQXU2GO"
      }
    },
    {
      "cell_type": "markdown",
      "source": [
        "#### Validating the goodness of the KNN imputation technique\n",
        "\n",
        "Experiment with set of Ks in K-nearest nesigbours\n",
        "\n",
        "Defining a function to validate KNNImputer results, the steps are-\n",
        "- generate a random validation subset sample from train data(consider the rows which has data originally avaliable for 'H', 'albedo' and 'data_arc')\n",
        "- original features values('H', 'albedo' and 'data_arc') are the y_trues\n",
        "- modify the subset to have data for 'H', 'albedo' and 'data_arc' as nan\n",
        "- impute the subset for missing values\n",
        "- compute metric - mse, comparing y_imputed vs y_true\n",
        "\n",
        "Run the experiment with best KNN estimator\n",
        "- plot distribution of errors for the three features"
      ],
      "metadata": {
        "id": "qrR_rNbDAoM8"
      }
    },
    {
      "cell_type": "code",
      "source": [
        "def validate_knn_imputed(knn_model):\n",
        "      \"\"\"function to validate the Knnimputer, validates knn_imputer on subset of train data with feature values all present\"\"\"\n",
        "      val_sample = X_train_enc.sample(10000, random_state=0)\n",
        "      val_sample.dropna(inplace=True)\n",
        "\n",
        "      #defining scaled y_trues\n",
        "      y_true_H = val_sample.H\n",
        "      y_true_albedo = val_sample.albedo\n",
        "      y_true_dataarc = val_sample.data_arc\n",
        "\n",
        "      #dropping original features\n",
        "      val_sample.drop(['H', 'albedo', 'data_arc'], axis=1, inplace=True)\n",
        "\n",
        "      #adding back features with nan values\n",
        "      val_sample['H'] = np.nan\n",
        "      val_sample['albedo'] = np.nan\n",
        "      val_sample['data_arc'] = np.nan\n",
        "\n",
        "      #looking up few records for the features\n",
        "      val_sample[['H', 'albedo', 'data_arc']].head(5)\n",
        "\n",
        "      cols=val_sample.columns\n",
        "\n",
        "      #imputing the missing values using the knn_imp model\n",
        "      val_sample_imp = knn_model.transform(val_sample)\n",
        "      val_sample_imp= pd.DataFrame(val_sample_imp, columns=cols) #imputed data to dataframe\n",
        "\n",
        "      #unscale \n",
        "      val_sample_unscaled=val_sample_imp.copy()\n",
        "      val_sample_unscaled.loc[:, num_cols] = scaler.inverse_transform(val_sample_imp.loc[:, num_cols])\n",
        "\n",
        "      \n",
        "      #measuring the imputation using metric 'mse'\n",
        "      mse_H = mean_squared_error(y_true_H, val_sample_imp.H)\n",
        "      mse_albedo = mean_squared_error(y_true_albedo, val_sample_imp.albedo)\n",
        "      mse_da = mean_squared_error(y_true_dataarc, val_sample_imp.data_arc)\n",
        "\n",
        "      print(\"MEAN SQUARED ERROR for scaled y_pred and y_true\")\n",
        "      print(f\"mean_squared_error for feature 'H' imputed: {mse_H}\")\n",
        "      print(f\"mean_squared_error for feature 'albedo' imputed: {mse_albedo}\")\n",
        "      print(f\"mean_squared_error for feature 'data_arc' imputed: {mse_da}\")\n",
        "      print()\n",
        "      \n",
        "      #measuring the imputation using metric 'mse' for unscaled data aswell\n",
        "      #defining unscaled y_trues\n",
        "      indices = val_sample.H.index.tolist()\n",
        "      y_true_H_unscaled = X_train_encoded_df.iloc[indices]['H']\n",
        "      y_true_albedo_unscaled = X_train_encoded_df.iloc[indices]['albedo']\n",
        "      y_true_dataarc_unscaled = X_train_encoded_df.iloc[indices]['data_arc']\n",
        "\n",
        "      mse_H_unscaled = mean_squared_error(y_true_H_unscaled, val_sample_unscaled.H)\n",
        "      mse_albedo_unscaled = mean_squared_error(y_true_albedo_unscaled, val_sample_unscaled.albedo)\n",
        "      mse_da_unscaled = mean_squared_error(y_true_dataarc_unscaled, val_sample_unscaled.data_arc)\n",
        "      print(\"MEAN SQUARED ERROR for unscaled y_pred and y_true\")\n",
        "      print(f\"mean_squared_error for feature 'H' imputed: {mse_H_unscaled}\")\n",
        "      print(f\"mean_squared_error for feature 'albedo' imputed: {mse_albedo_unscaled}\")\n",
        "      print(f\"mean_squared_error for feature 'data_arc' imputed: {mse_da_unscaled}\")\n",
        "      print(\"=\"*100)\n",
        "\n",
        "      return "
      ],
      "metadata": {
        "id": "bDxJkQe9xfeR"
      },
      "execution_count": null,
      "outputs": []
    },
    {
      "cell_type": "code",
      "source": [
        "#numerical columns\n",
        "num_cols = X_train.dtypes[(X_train.dtypes=='float64') | (X_train.dtypes=='int64') ].index.tolist()\n",
        "#defining Scaler object\n",
        "scaler = StandardScaler()\n",
        "#defining n_neighbour to experiment with\n",
        "n_neighbours = [5, 10, 15, 25, 50]\n",
        "\n",
        "for i in n_neighbours:\n",
        "    X_train_enc = X_train_encoded_df.copy()\n",
        "    scaler.fit(X_train_enc.loc[:, num_cols]) \n",
        "    X_train_enc.loc[:,num_cols] = scaler.transform(X_train_enc.loc[:, num_cols])\n",
        "    knn_imp = KNNImputer(n_neighbors=i) ## fitting KNNImputer\n",
        "    knn_imp.fit(X_train_enc)\n",
        "    X_train_knn_imp = knn_imp.transform(X_train_enc)\n",
        "    print(f\"Validation results for knn_model with n_neighbours:{i}\")\n",
        "    validate_knn_imputed(knn_imp)"
      ],
      "metadata": {
        "colab": {
          "base_uri": "https://localhost:8080/"
        },
        "id": "MPxd3jtt0AIZ",
        "outputId": "9e1713ec-1dc0-4260-c6ce-94684a9d1459"
      },
      "execution_count": null,
      "outputs": [
        {
          "output_type": "stream",
          "name": "stdout",
          "text": [
            "Validation results for knn_model with n_neighbours:5\n",
            "MEAN SQUARED ERROR for scaled y_pred and y_true\n",
            "mean_squared_error for feature 'H' imputed: 1.1067597951201247\n",
            "mean_squared_error for feature 'albedo' imputed: 1.0137481388517635\n",
            "mean_squared_error for feature 'data_arc' imputed: 0.9539789083979574\n",
            "\n",
            "MEAN SQUARED ERROR for unscaled y_pred and y_true\n",
            "mean_squared_error for feature 'H' imputed: 2.241264793858268\n",
            "mean_squared_error for feature 'albedo' imputed: 0.012283595160043306\n",
            "mean_squared_error for feature 'data_arc' imputed: 33597085.012547284\n",
            "====================================================================================================\n",
            "Validation results for knn_model with n_neighbours:10\n",
            "MEAN SQUARED ERROR for scaled y_pred and y_true\n",
            "mean_squared_error for feature 'H' imputed: 1.086528951868465\n",
            "mean_squared_error for feature 'albedo' imputed: 1.0137500090555436\n",
            "mean_squared_error for feature 'data_arc' imputed: 0.9539789083979574\n",
            "\n",
            "MEAN SQUARED ERROR for unscaled y_pred and y_true\n",
            "mean_squared_error for feature 'H' imputed: 2.200295943227867\n",
            "mean_squared_error for feature 'albedo' imputed: 0.012283617821319039\n",
            "mean_squared_error for feature 'data_arc' imputed: 33597085.012547284\n",
            "====================================================================================================\n",
            "Validation results for knn_model with n_neighbours:15\n",
            "MEAN SQUARED ERROR for scaled y_pred and y_true\n",
            "mean_squared_error for feature 'H' imputed: 1.0739624417780484\n",
            "mean_squared_error for feature 'albedo' imputed: 1.0137196070637717\n",
            "mean_squared_error for feature 'data_arc' imputed: 0.9539789083979574\n",
            "\n",
            "MEAN SQUARED ERROR for unscaled y_pred and y_true\n",
            "mean_squared_error for feature 'H' imputed: 2.1748478949959935\n",
            "mean_squared_error for feature 'albedo' imputed: 0.012283249440115988\n",
            "mean_squared_error for feature 'data_arc' imputed: 33597085.012547284\n",
            "====================================================================================================\n",
            "Validation results for knn_model with n_neighbours:25\n",
            "MEAN SQUARED ERROR for scaled y_pred and y_true\n",
            "mean_squared_error for feature 'H' imputed: 1.0596882085732418\n",
            "mean_squared_error for feature 'albedo' imputed: 1.013696218542176\n",
            "mean_squared_error for feature 'data_arc' imputed: 0.9539789083979574\n",
            "\n",
            "MEAN SQUARED ERROR for unscaled y_pred and y_true\n",
            "mean_squared_error for feature 'H' imputed: 2.1459415898678933\n",
            "mean_squared_error for feature 'albedo' imputed: 0.012282966041193057\n",
            "mean_squared_error for feature 'data_arc' imputed: 33597085.012547284\n",
            "====================================================================================================\n",
            "Validation results for knn_model with n_neighbours:50\n",
            "MEAN SQUARED ERROR for scaled y_pred and y_true\n",
            "mean_squared_error for feature 'H' imputed: 1.0436228773390182\n",
            "mean_squared_error for feature 'albedo' imputed: 1.0136353138121952\n",
            "mean_squared_error for feature 'data_arc' imputed: 0.9539789083979574\n",
            "\n",
            "MEAN SQUARED ERROR for unscaled y_pred and y_true\n",
            "mean_squared_error for feature 'H' imputed: 2.1134081878996462\n",
            "mean_squared_error for feature 'albedo' imputed: 0.012282228058041479\n",
            "mean_squared_error for feature 'data_arc' imputed: 33597085.012547284\n",
            "====================================================================================================\n"
          ]
        }
      ]
    },
    {
      "cell_type": "markdown",
      "source": [
        "Data_arc feature mse looks wierd, trying below to experiment with  KNNeighborsRegressor and plotting the errors. Considering here k=5 as from KNNImputer, we don't see much improvement with different K-values tried."
      ],
      "metadata": {
        "id": "2WYPycHX_kzT"
      }
    },
    {
      "cell_type": "code",
      "source": [
        "from sklearn.neighbors import KNeighborsRegressor\n",
        "\n",
        "def knn_imputation(feature):\n",
        "      X_train_enc = X_train_encoded_df.copy()\n",
        "      train = X_train_enc[X_train_enc[feature].notnull()]\n",
        "      test = X_train_enc[X_train_enc[feature].isnull()]\n",
        "      test_indices = X_train_enc[X_train_enc['data_arc'].isnull()].index.tolist()\n",
        "\n",
        "      #defining y_train\n",
        "      y_train_feature = train[feature]\n",
        "      #print(y_train_feature)\n",
        "      #dropping feature from train and test      \n",
        "      train.drop(['H', 'albedo', 'data_arc'], axis=1, inplace=True)\n",
        "      test.drop(['H', 'albedo', 'data_arc'], axis=1, inplace=True)\n",
        "   \n",
        "      #scaling data\n",
        "      cols = [i for i in num_cols.copy() if i not in ('H', 'albedo', 'data_arc')]\n",
        "      scaler.fit(train.loc[:, cols])\n",
        "      train.loc[:,cols] = scaler.transform(train.loc[:, cols])\n",
        "      test.loc[:,cols] = scaler.transform(test.loc[:, cols])\n",
        "\n",
        "      #fitting knn regressor\n",
        "      knn = KNeighborsRegressor(n_neighbors=5)\n",
        "      knn.fit(train, y_train_feature)\n",
        "      y_pred_train = knn.predict(train)\n",
        "      y_pred_test = knn.predict(test)\n",
        "\n",
        "      #print(y_train_feature)\n",
        "      mse = mean_squared_error(y_train_feature, y_pred_train)\n",
        "      print(f\"Mean Squared Error for train is : {mse}\")\n",
        "\n",
        "      return y_train_feature, y_pred_train, y_pred_test, test_indices, mse"
      ],
      "metadata": {
        "id": "dzPVK4ZVAChL"
      },
      "execution_count": null,
      "outputs": []
    },
    {
      "cell_type": "markdown",
      "source": [
        "Predicting for data_arc"
      ],
      "metadata": {
        "id": "4-y6RSSTk-8l"
      }
    },
    {
      "cell_type": "code",
      "source": [
        "# predict data_arc using KNNRegressor with k=5\n",
        "y_train_da, y_pred_train_da, y_pred_test_da, test_indices_da, mse_da = knn_imputation('data_arc')"
      ],
      "metadata": {
        "colab": {
          "base_uri": "https://localhost:8080/"
        },
        "id": "N4lqoNMZEiPB",
        "outputId": "1a3ba231-8416-4ccc-8c00-26c9dfde407b"
      },
      "execution_count": null,
      "outputs": [
        {
          "output_type": "stream",
          "name": "stdout",
          "text": [
            "Mean Squared Error for train is : 14318895.572035674\n"
          ]
        }
      ]
    },
    {
      "cell_type": "code",
      "source": [
        "#residual errors \n",
        "prediction_error_da = y_train_da - y_pred_train_da"
      ],
      "metadata": {
        "id": "uU4kyud9O-wp"
      },
      "execution_count": null,
      "outputs": []
    },
    {
      "cell_type": "code",
      "source": [
        "#plotting residuals\n",
        "plt.figure(figsize=(10,8))\n",
        "k = sns.residplot(x=y_pred_train_da, y=(y_train_da-y_pred_train_da),robust=True, color='green')\n",
        "plt.title(\"data_arc prediction residual plot \", fontsize=16)\n",
        "plt.xlabel('data_arc predicted', fontsize=14)\n",
        "plt.ylabel('residuals', fontsize=14)\n",
        "plt.show()"
      ],
      "metadata": {
        "colab": {
          "base_uri": "https://localhost:8080/"
        },
        "id": "XQp_omGeUNzB",
        "outputId": "fe2cca80-c9d1-454c-a187-176e61decd57"
      },
      "execution_count": null,
      "outputs": [
        {
          "output_type": "display_data",
          "data": {
            "text/plain": [
              "<Figure size 720x576 with 1 Axes>"
            ],
            "image/png": "[encoded data removed]"
          },
          "metadata": {}
        }
      ]
    },
    {
      "cell_type": "markdown",
      "source": [
        "Observation:\n",
        "- mse for data_arc prediction is 14262851.460694853, very high\n",
        "- we observe here that the residuals fan out as the predicted value is increasing, this indicates that residuals don't have consant variance"
      ],
      "metadata": {
        "id": "vpyPWJj_a9C5"
      }
    },
    {
      "cell_type": "markdown",
      "source": [
        "Predicting for 'H'"
      ],
      "metadata": {
        "id": "Y4VRWBF9lDLd"
      }
    },
    {
      "cell_type": "code",
      "source": [
        "y_train_h, y_pred_train_h, y_pred_test_h, test_indices_h, mse_h = knn_imputation('H')"
      ],
      "metadata": {
        "colab": {
          "base_uri": "https://localhost:8080/"
        },
        "id": "w5MUV0ggOX5x",
        "outputId": "7bb37587-42fd-4921-e4b9-a50158c89069"
      },
      "execution_count": null,
      "outputs": [
        {
          "output_type": "stream",
          "name": "stdout",
          "text": [
            "Mean Squared Error for train is : 0.4958146813549192\n"
          ]
        }
      ]
    },
    {
      "cell_type": "code",
      "source": [
        "#plotting residuals\n",
        "plt.figure(figsize=(10,8))\n",
        "k = sns.residplot(x=y_pred_train_h, y=(y_train_h-y_pred_train_h),robust=True, color='green')\n",
        "plt.title(\"H prediction residual plot \", fontsize=16)\n",
        "plt.xlabel(\"'H' predicted\", fontsize=14)\n",
        "plt.ylabel('residuals', fontsize=14)\n",
        "plt.show()"
      ],
      "metadata": {
        "colab": {
          "base_uri": "https://localhost:8080/"
        },
        "id": "EI4I-C1UZSjQ",
        "outputId": "66199486-8a56-4ee5-9d65-4b97a2751937"
      },
      "execution_count": null,
      "outputs": [
        {
          "output_type": "display_data",
          "data": {
            "text/plain": [
              "<Figure size 720x576 with 1 Axes>"
            ],
            "image/png": "[encoded data removed]"
          },
          "metadata": {}
        }
      ]
    },
    {
      "cell_type": "markdown",
      "source": [
        "Observation:\n",
        "- mse for 'H' prediction is - 0.49, seems good\n",
        "- the residual distribution seems to be uniform"
      ],
      "metadata": {
        "id": "3itFrSmScmco"
      }
    },
    {
      "cell_type": "markdown",
      "source": [
        "Predicting for albedo"
      ],
      "metadata": {
        "id": "6JSnIyrAlHMI"
      }
    },
    {
      "cell_type": "code",
      "source": [
        "y_train_albedo, y_pred_train_albedo, y_pred_test_albedo, test_indices_albedo, mse_albedo = knn_imputation('albedo')"
      ],
      "metadata": {
        "colab": {
          "base_uri": "https://localhost:8080/"
        },
        "id": "GhV9kasNOYrp",
        "outputId": "31150141-78a7-4852-f5b6-7d10943031f6"
      },
      "execution_count": null,
      "outputs": [
        {
          "output_type": "stream",
          "name": "stdout",
          "text": [
            "Mean Squared Error for train is : 0.005029253208853607\n"
          ]
        }
      ]
    },
    {
      "cell_type": "code",
      "source": [
        "#plotting residuals\n",
        "plt.figure(figsize=(10,8))\n",
        "k = sns.residplot(x=y_pred_train_albedo, y=(y_train_albedo-y_pred_train_albedo),robust=True, color='green')\n",
        "plt.title(\"albedo prediction residual plot \", fontsize=16)\n",
        "plt.xlabel(\"albedo predicted\", fontsize=14)\n",
        "plt.ylabel('residuals', fontsize=14)\n",
        "plt.show()"
      ],
      "metadata": {
        "colab": {
          "base_uri": "https://localhost:8080/"
        },
        "id": "J9kIUsDYYjL6",
        "outputId": "f54ebb8c-1ba1-4ad1-cc43-54a57b91437d"
      },
      "execution_count": null,
      "outputs": [
        {
          "output_type": "display_data",
          "data": {
            "text/plain": [
              "<Figure size 720x576 with 1 Axes>"
            ],
            "image/png": "[encoded data removed]"
          },
          "metadata": {}
        }
      ]
    },
    {
      "cell_type": "markdown",
      "source": [
        "Observation:\n",
        "- mse(0.005) for albedo prediction looks good\n",
        "- residuals errors seems not to be constant"
      ],
      "metadata": {
        "id": "iUpu_dY6agOP"
      }
    },
    {
      "cell_type": "markdown",
      "source": [
        "## Summary:\n",
        "\n",
        "- Features with missing data were - 'H', 'albedo', 'data_arc'\n",
        "  - **for 'H': 0.8 %**\n",
        "  - **for 'albedo':0.8%**\n",
        "  - **for 'data_arc':0.019%**\n",
        "\n",
        "- Experimented with missing values imputation strategies:\n",
        "    - Simple imputer - mean and median startegy\n",
        "    - Iterative imputer\n",
        "    - KNN imputer\n",
        "\n",
        "\n",
        "- **Conclusion** : As per the domain info - https://cneos.jpl.nasa.gov/tools/ast_size_est.html, we see that diameter value is very sensitive to changes in 'H', and 'albedo\n",
        "Knowing this fact, imputing with a mean, median, or constant value won’t make sense. For albedo, it might sound ok because the expert assumed albedo value 0.14 is close to our mean albedo value 0.13. But the above resource page also states “an error in the assumed albedo can result in a significantly erroneous diameter”\n",
        "Hence, it seems more reasonable to impute ‘H’ and albedo based on Nearest Neighbors approach. Using same technique for data_arc as well.\n",
        "\n",
        "**So, here we decide to go with KNNImputer method**\n"
      ],
      "metadata": {
        "id": "lVdLGXqLtJrT"
      }
    },
    {
      "cell_type": "code",
      "source": [
        "#final imputed and onehot encoded data\n",
        "X_train_imp_df = X_train_knn_imp.copy()\n",
        "X_test_imp_df = X_test_knn_imp.copy()"
      ],
      "metadata": {
        "id": "xHDXmphOBSH2"
      },
      "execution_count": null,
      "outputs": []
    },
    {
      "cell_type": "code",
      "source": [
        "#saving the final dataframe\n",
        "save_to_csv(X_train_imp_df, 'X_train_imp_df')\n",
        "save_to_csv(X_test_imp_df, 'X_test_imp_df')"
      ],
      "metadata": {
        "id": "_CLgnSrdCDwX"
      },
      "execution_count": null,
      "outputs": []
    },
    {
      "cell_type": "code",
      "source": [
        "X_train_imp_df.head(3)"
      ],
      "metadata": {
        "colab": {
          "base_uri": "https://localhost:8080/",
          "height": 237
        },
        "id": "qUrIikWBz-9X",
        "outputId": "fa5bdc18-e4c8-4ee4-fdc8-93b255201d39"
      },
      "execution_count": null,
      "outputs": [
        {
          "output_type": "execute_result",
          "data": {
            "text/plain": [
              "       H  albedo      epoch       e      a      q      i    ad       n  \\\n",
              "0  14.73   0.100  2459800.5  0.0437  3.103  2.967   8.63  3.24  0.1803   \n",
              "1  17.33   0.071  2459800.5  0.1538  2.988  2.529  12.74  3.45  0.1908   \n",
              "2  14.40   0.207  2459800.5  0.0393  3.098  2.976  11.80  3.22  0.1808   \n",
              "\n",
              "           tp  ...  class_APO  class_AST  class_ATE  class_CEN  class_IMB  \\\n",
              "0  2459704.30  ...        0.0        0.0        0.0        0.0        0.0   \n",
              "1  2459459.77  ...        0.0        0.0        0.0        0.0        0.0   \n",
              "2  2459605.94  ...        0.0        0.0        0.0        0.0        0.0   \n",
              "\n",
              "   class_MBA  class_MCA  class_OMB  class_TJN  class_TNO  \n",
              "0        1.0        0.0        0.0        0.0        0.0  \n",
              "1        1.0        0.0        0.0        0.0        0.0  \n",
              "2        1.0        0.0        0.0        0.0        0.0  \n",
              "\n",
              "[3 rows x 28 columns]"
            ],
            "text/html": [
              "\n",
              "  <div id=\"df-98d69242-994c-43da-a370-14b80dad5c09\">\n",
              "    <div class=\"colab-df-container\">\n",
              "      <div>\n",
              "<style scoped>\n",
              "    .dataframe tbody tr th:only-of-type {\n",
              "        vertical-align: middle;\n",
              "    }\n",
              "\n",
              "    .dataframe tbody tr th {\n",
              "        vertical-align: top;\n",
              "    }\n",
              "\n",
              "    .dataframe thead th {\n",
              "        text-align: right;\n",
              "    }\n",
              "</style>\n",
              "<table border=\"1\" class=\"dataframe\">\n",
              "  <thead>\n",
              "    <tr style=\"text-align: right;\">\n",
              "      <th></th>\n",
              "      <th>H</th>\n",
              "      <th>albedo</th>\n",
              "      <th>epoch</th>\n",
              "      <th>e</th>\n",
              "      <th>a</th>\n",
              "      <th>q</th>\n",
              "      <th>i</th>\n",
              "      <th>ad</th>\n",
              "      <th>n</th>\n",
              "      <th>tp</th>\n",
              "      <th>...</th>\n",
              "      <th>class_APO</th>\n",
              "      <th>class_AST</th>\n",
              "      <th>class_ATE</th>\n",
              "      <th>class_CEN</th>\n",
              "      <th>class_IMB</th>\n",
              "      <th>class_MBA</th>\n",
              "      <th>class_MCA</th>\n",
              "      <th>class_OMB</th>\n",
              "      <th>class_TJN</th>\n",
              "      <th>class_TNO</th>\n",
              "    </tr>\n",
              "  </thead>\n",
              "  <tbody>\n",
              "    <tr>\n",
              "      <th>0</th>\n",
              "      <td>14.73</td>\n",
              "      <td>0.100</td>\n",
              "      <td>2459800.5</td>\n",
              "      <td>0.0437</td>\n",
              "      <td>3.103</td>\n",
              "      <td>2.967</td>\n",
              "      <td>8.63</td>\n",
              "      <td>3.24</td>\n",
              "      <td>0.1803</td>\n",
              "      <td>2459704.30</td>\n",
              "      <td>...</td>\n",
              "      <td>0.0</td>\n",
              "      <td>0.0</td>\n",
              "      <td>0.0</td>\n",
              "      <td>0.0</td>\n",
              "      <td>0.0</td>\n",
              "      <td>1.0</td>\n",
              "      <td>0.0</td>\n",
              "      <td>0.0</td>\n",
              "      <td>0.0</td>\n",
              "      <td>0.0</td>\n",
              "    </tr>\n",
              "    <tr>\n",
              "      <th>1</th>\n",
              "      <td>17.33</td>\n",
              "      <td>0.071</td>\n",
              "      <td>2459800.5</td>\n",
              "      <td>0.1538</td>\n",
              "      <td>2.988</td>\n",
              "      <td>2.529</td>\n",
              "      <td>12.74</td>\n",
              "      <td>3.45</td>\n",
              "      <td>0.1908</td>\n",
              "      <td>2459459.77</td>\n",
              "      <td>...</td>\n",
              "      <td>0.0</td>\n",
              "      <td>0.0</td>\n",
              "      <td>0.0</td>\n",
              "      <td>0.0</td>\n",
              "      <td>0.0</td>\n",
              "      <td>1.0</td>\n",
              "      <td>0.0</td>\n",
              "      <td>0.0</td>\n",
              "      <td>0.0</td>\n",
              "      <td>0.0</td>\n",
              "    </tr>\n",
              "    <tr>\n",
              "      <th>2</th>\n",
              "      <td>14.40</td>\n",
              "      <td>0.207</td>\n",
              "      <td>2459800.5</td>\n",
              "      <td>0.0393</td>\n",
              "      <td>3.098</td>\n",
              "      <td>2.976</td>\n",
              "      <td>11.80</td>\n",
              "      <td>3.22</td>\n",
              "      <td>0.1808</td>\n",
              "      <td>2459605.94</td>\n",
              "      <td>...</td>\n",
              "      <td>0.0</td>\n",
              "      <td>0.0</td>\n",
              "      <td>0.0</td>\n",
              "      <td>0.0</td>\n",
              "      <td>0.0</td>\n",
              "      <td>1.0</td>\n",
              "      <td>0.0</td>\n",
              "      <td>0.0</td>\n",
              "      <td>0.0</td>\n",
              "      <td>0.0</td>\n",
              "    </tr>\n",
              "  </tbody>\n",
              "</table>\n",
              "<p>3 rows × 28 columns</p>\n",
              "</div>\n",
              "      <button class=\"colab-df-convert\" onclick=\"convertToInteractive('df-98d69242-994c-43da-a370-14b80dad5c09')\"\n",
              "              title=\"Convert this dataframe to an interactive table.\"\n",
              "              style=\"display:none;\">\n",
              "        \n",
              "  <svg xmlns=\"http://www.w3.org/2000/svg\" height=\"24px\"viewBox=\"0 0 24 24\"\n",
              "       width=\"24px\">\n",
              "    <path d=\"M0 0h24v24H0V0z\" fill=\"none\"/>\n",
              "    <path d=\"M18.56 5.44l.94 2.06.94-2.06 2.06-.94-2.06-.94-.94-2.06-.94 2.06-2.06.94zm-11 1L8.5 8.5l.94-2.06 2.06-.94-2.06-.94L8.5 2.5l-.94 2.06-2.06.94zm10 10l.94 2.06.94-2.06 2.06-.94-2.06-.94-.94-2.06-.94 2.06-2.06.94z\"/><path d=\"M17.41 7.96l-1.37-1.37c-.4-.4-.92-.59-1.43-.59-.52 0-1.04.2-1.43.59L10.3 9.45l-7.72 7.72c-.78.78-.78 2.05 0 2.83L4 21.41c.39.39.9.59 1.41.59.51 0 1.02-.2 1.41-.59l7.78-7.78 2.81-2.81c.8-.78.8-2.07 0-2.86zM5.41 20L4 18.59l7.72-7.72 1.47 1.35L5.41 20z\"/>\n",
              "  </svg>\n",
              "      </button>\n",
              "      \n",
              "  <style>\n",
              "    .colab-df-container {\n",
              "      display:flex;\n",
              "      flex-wrap:wrap;\n",
              "      gap: 12px;\n",
              "    }\n",
              "\n",
              "    .colab-df-convert {\n",
              "      background-color: #E8F0FE;\n",
              "      border: none;\n",
              "      border-radius: 50%;\n",
              "      cursor: pointer;\n",
              "      display: none;\n",
              "      fill: #1967D2;\n",
              "      height: 32px;\n",
              "      padding: 0 0 0 0;\n",
              "      width: 32px;\n",
              "    }\n",
              "\n",
              "    .colab-df-convert:hover {\n",
              "      background-color: #E2EBFA;\n",
              "      box-shadow: 0px 1px 2px rgba(60, 64, 67, 0.3), 0px 1px 3px 1px rgba(60, 64, 67, 0.15);\n",
              "      fill: #174EA6;\n",
              "    }\n",
              "\n",
              "    [theme=dark] .colab-df-convert {\n",
              "      background-color: #3B4455;\n",
              "      fill: #D2E3FC;\n",
              "    }\n",
              "\n",
              "    [theme=dark] .colab-df-convert:hover {\n",
              "      background-color: #434B5C;\n",
              "      box-shadow: 0px 1px 3px 1px rgba(0, 0, 0, 0.15);\n",
              "      filter: drop-shadow(0px 1px 2px rgba(0, 0, 0, 0.3));\n",
              "      fill: #FFFFFF;\n",
              "    }\n",
              "  </style>\n",
              "\n",
              "      <script>\n",
              "        const buttonEl =\n",
              "          document.querySelector('#df-98d69242-994c-43da-a370-14b80dad5c09 button.colab-df-convert');\n",
              "        buttonEl.style.display =\n",
              "          google.colab.kernel.accessAllowed ? 'block' : 'none';\n",
              "\n",
              "        async function convertToInteractive(key) {\n",
              "          const element = document.querySelector('#df-98d69242-994c-43da-a370-14b80dad5c09');\n",
              "          const dataTable =\n",
              "            await google.colab.kernel.invokeFunction('convertToInteractive',\n",
              "                                                     [key], {});\n",
              "          if (!dataTable) return;\n",
              "\n",
              "          const docLinkHtml = 'Like what you see? Visit the ' +\n",
              "            '<a target=\"_blank\" href=https://colab.research.google.com/notebooks/data_table.ipynb>data table notebook</a>'\n",
              "            + ' to learn more about interactive tables.';\n",
              "          element.innerHTML = '';\n",
              "          dataTable['output_type'] = 'display_data';\n",
              "          await google.colab.output.renderOutput(dataTable, element);\n",
              "          const docLink = document.createElement('div');\n",
              "          docLink.innerHTML = docLinkHtml;\n",
              "          element.appendChild(docLink);\n",
              "        }\n",
              "      </script>\n",
              "    </div>\n",
              "  </div>\n",
              "  "
            ]
          },
          "metadata": {},
          "execution_count": 75
        }
      ]
    }
  ]
}